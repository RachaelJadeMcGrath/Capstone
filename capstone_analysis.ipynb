{
 "cells": [
  {
   "cell_type": "code",
   "execution_count": 63,
   "id": "aa8af16c",
   "metadata": {},
   "outputs": [
    {
     "name": "stdout",
     "output_type": "stream",
     "text": [
      "Shape:  (1799, 35)\n"
     ]
    }
   ],
   "source": [
    "# importing liabraries for analysis\n",
    "import pandas as pd\n",
    "import numpy as np\n",
    "import scipy.stats as stats\n",
    "import matplotlib.pyplot as plt\n",
    "import seaborn as sns\n",
    "\n",
    "# setting pandas safe option\n",
    "pd.set_option('mode.copy_on_write', True)\n",
    "\n",
    "# Load the dataset from a CSV file\n",
    "sauna_2025 = pd.read_csv(\"Anonymised Community Sauna Annual 2024 Survey (Responses).csv\")\n",
    "print(\"Shape: \",sauna_2025.shape)"
   ]
  },
  {
   "cell_type": "markdown",
   "id": "fd6408e7",
   "metadata": {},
   "source": [
    "# Cleaning"
   ]
  },
  {
   "cell_type": "code",
   "execution_count": 64,
   "id": "0d40ccc8",
   "metadata": {},
   "outputs": [
    {
     "data": {
      "application/vnd.microsoft.datawrangler.viewer.v0+json": {
       "columns": [
        {
         "name": "index",
         "rawType": "object",
         "type": "string"
        },
        {
         "name": "0",
         "rawType": "int64",
         "type": "integer"
        }
       ],
       "ref": "830c6a31-9a58-48b5-860e-fbe1db4e73df",
       "rows": [
        [
         "Timestamp",
         "0"
        ],
        [
         "What is your age group?",
         "1"
        ],
        [
         "What gender do you identify with?",
         "6"
        ],
        [
         "How would you describe your ethnicity?",
         "5"
        ],
        [
         "Do you consider yourself to have a disability or long term health condition?",
         "11"
        ],
        [
         "What is your sexual orientation?",
         "4"
        ],
        [
         "Please indicate the following about your employment status:",
         "3"
        ],
        [
         "What is your religious belief?",
         "34"
        ],
        [
         "Where do you currently live?",
         "4"
        ],
        [
         "Had you been to a sauna before you came to Community Sauna?",
         "6"
        ],
        [
         "How did you hear about the Community Sauna?",
         "4"
        ],
        [
         "How often do you visit our sauna?",
         "4"
        ],
        [
         "Which of our sauna locations do you visit most often?",
         "10"
        ],
        [
         "Have you experienced any physical health improvements from using the sauna?",
         "6"
        ],
        [
         "Have you experienced any mental health improvements from using the sauna?",
         "5"
        ],
        [
         "How important is having regular access to sauna?\r\n\r\nOn a scale of 1 to 5, where 1 is low and 5 is high",
         "5"
        ],
        [
         "What do you enjoy most about the community sauna?",
         "8"
        ],
        [
         "Are you satisfied with the temperature at our saunas?",
         "13"
        ],
        [
         "If you’re not satisfied, could you please explain why",
         "1567"
        ],
        [
         "Are you satisfied with the amount of customers during the sessions?",
         "22"
        ],
        [
         "If you’re not satisfied, could you please explain why2",
         "1455"
        ],
        [
         "Do you feel a sense of belonging or community when using the sauna?",
         "12"
        ],
        [
         "How would you rate  the overall cleanliness and hygiene of the sauna facilities?\r\n\r\nOn a scale of 1 to 5, where 1 is low and 5 is high",
         "16"
        ],
        [
         "How would you rate the staff’s friendliness and professionalism? \r\n\r\nOn a scale of 1 to 5, where 1 is low and 5 is high",
         "16"
        ],
        [
         "How would you rate the overall ambiance and atmosphere of the sauna?\r\n\r\nOn a scale of 1 to 5, where 1 is low and 5 is high",
         "15"
        ],
        [
         "Are the sauna prices reasonable and in line with your expectations?\r\n\r\nOn a scale of 1 to 5, where 1 is low and 5 is high",
         "16"
        ],
        [
         "What improvements or additions would you like to see in the sauna facilities or services?",
         "913"
        ],
        [
         "Do you know of any specific location where we could set up a community sauna? (e.g., a park, unused building, or local space)",
         "1069"
        ],
        [
         "What improvements would you suggest for the facilities, services, or events?",
         "1093"
        ],
        [
         "Are you familiar with our social prescribing offers and services?",
         "45"
        ],
        [
         "If yes, how did you hear about it?",
         "1180"
        ],
        [
         "Please share why community sauna is important to you?",
         "547"
        ],
        [
         "In which area of London would you like us to set up a sauna?",
         "291"
        ],
        [
         "What topics would you like to hear more about from us in our communications? (Select all that apply)",
         "277"
        ],
        [
         "Is there anything else you would like to share or comment on regarding your experiences at the community sauna in London?",
         "1311"
        ]
       ],
       "shape": {
        "columns": 1,
        "rows": 35
       }
      },
      "text/plain": [
       "Timestamp                                                                                                                                        0\n",
       "What is your age group?                                                                                                                          1\n",
       "What gender do you identify with?                                                                                                                6\n",
       "How would you describe your ethnicity?                                                                                                           5\n",
       "Do you consider yourself to have a disability or long term health condition?                                                                    11\n",
       "What is your sexual orientation?                                                                                                                 4\n",
       "Please indicate the following about your employment status:                                                                                      3\n",
       "What is your religious belief?                                                                                                                  34\n",
       "Where do you currently live?                                                                                                                     4\n",
       "Had you been to a sauna before you came to Community Sauna?                                                                                      6\n",
       "How did you hear about the Community Sauna?                                                                                                      4\n",
       "How often do you visit our sauna?                                                                                                                4\n",
       "Which of our sauna locations do you visit most often?                                                                                           10\n",
       "Have you experienced any physical health improvements from using the sauna?                                                                      6\n",
       "Have you experienced any mental health improvements from using the sauna?                                                                        5\n",
       "How important is having regular access to sauna?\\r\\n\\r\\nOn a scale of 1 to 5, where 1 is low and 5 is high                                       5\n",
       "What do you enjoy most about the community sauna?                                                                                                8\n",
       "Are you satisfied with the temperature at our saunas?                                                                                           13\n",
       "If you’re not satisfied, could you please explain why                                                                                         1567\n",
       "Are you satisfied with the amount of customers during the sessions?                                                                             22\n",
       "If you’re not satisfied, could you please explain why2                                                                                        1455\n",
       "Do you feel a sense of belonging or community when using the sauna?                                                                             12\n",
       "How would you rate  the overall cleanliness and hygiene of the sauna facilities?\\r\\n\\r\\nOn a scale of 1 to 5, where 1 is low and 5 is high      16\n",
       "How would you rate the staff’s friendliness and professionalism? \\r\\n\\r\\nOn a scale of 1 to 5, where 1 is low and 5 is high                     16\n",
       "How would you rate the overall ambiance and atmosphere of the sauna?\\r\\n\\r\\nOn a scale of 1 to 5, where 1 is low and 5 is high                  15\n",
       "Are the sauna prices reasonable and in line with your expectations?\\r\\n\\r\\nOn a scale of 1 to 5, where 1 is low and 5 is high                   16\n",
       "What improvements or additions would you like to see in the sauna facilities or services?                                                      913\n",
       "Do you know of any specific location where we could set up a community sauna? (e.g., a park, unused building, or local space)                 1069\n",
       "What improvements would you suggest for the facilities, services, or events?                                                                  1093\n",
       "Are you familiar with our social prescribing offers and services?                                                                               45\n",
       "If yes, how did you hear about it?                                                                                                            1180\n",
       "Please share why community sauna is important to you?                                                                                          547\n",
       "In which area of London would you like us to set up a sauna?                                                                                   291\n",
       "What topics would you like to hear more about from us in our communications? (Select all that apply)                                           277\n",
       "Is there anything else you would like to share or comment on regarding your experiences at the community sauna in London?                     1311\n",
       "dtype: int64"
      ]
     },
     "execution_count": 64,
     "metadata": {},
     "output_type": "execute_result"
    }
   ],
   "source": [
    "# checking for missing values\n",
    "sauna_2025.isnull().sum()"
   ]
  },
  {
   "cell_type": "code",
   "execution_count": 65,
   "id": "cc233551",
   "metadata": {},
   "outputs": [],
   "source": [
    "# dropping columns for anonymity and irrelevance to analysis\n",
    "\n",
    "drop_list = [\n",
    "    \"\"\"ID\"\"\",\n",
    "    \"\"\"Timestamp\"\"\", \n",
    "    \"\"\"What is your name?\"\"\", \n",
    "    \"\"\"What is your sexual orientation?\"\"\",\n",
    "    \"\"\"Overall, how satisfied are you with your life nowadays? (where 0 is “not at all” and 10 is “completely”)\"\"\",\n",
    "    \"\"\"Overall, to what extent do you feel that the things you do in your life are worthwhile? (where 0 is “not at all” and 10 is “completely”)\"\"\",\n",
    "    \"\"\"I’ve been feeling optimistic about the future\"\"\",\n",
    "    \"\"\"I’ve been feeling useful\"\"\",\n",
    "    \"\"\"I’ve been feeling relaxed\"\"\",\n",
    "    \"\"\"I’ve been dealing with problems well\"\"\",\n",
    "    \"\"\"I’ve been thinking clearly\"\"\",\n",
    "    \"\"\"I’ve been feeling close to other people\"\"\",\n",
    "    \"\"\"I’ve been able to make up my own mind about things\"\"\",\n",
    "]\n",
    "\n",
    "\n",
    "sauna_2025 = sauna_2025.drop(columns=drop_list, errors=\"ignore\")\n",
    "df = sauna_2025.drop(columns=sauna_2025.columns[-1], errors=\"ignore\")"
   ]
  },
  {
   "cell_type": "code",
   "execution_count": 67,
   "id": "28f0cc64",
   "metadata": {},
   "outputs": [
    {
     "data": {
      "application/vnd.microsoft.datawrangler.viewer.v0+json": {
       "columns": [
        {
         "name": "index",
         "rawType": "int64",
         "type": "integer"
        },
        {
         "name": "age",
         "rawType": "object",
         "type": "unknown"
        },
        {
         "name": "gender",
         "rawType": "object",
         "type": "unknown"
        },
        {
         "name": "ethnicity",
         "rawType": "object",
         "type": "unknown"
        },
        {
         "name": "disability_health_condition",
         "rawType": "object",
         "type": "unknown"
        },
        {
         "name": "employment_status",
         "rawType": "object",
         "type": "unknown"
        },
        {
         "name": "religious_belief",
         "rawType": "object",
         "type": "unknown"
        },
        {
         "name": "location",
         "rawType": "object",
         "type": "unknown"
        },
        {
         "name": "Had you been to a sauna before you came to Community Sauna?",
         "rawType": "object",
         "type": "unknown"
        },
        {
         "name": "How did you hear about the Community Sauna?",
         "rawType": "object",
         "type": "unknown"
        },
        {
         "name": "visit_frequency",
         "rawType": "object",
         "type": "unknown"
        },
        {
         "name": "location_frequency",
         "rawType": "object",
         "type": "unknown"
        },
        {
         "name": "physical_health_improvements",
         "rawType": "object",
         "type": "unknown"
        },
        {
         "name": "mental_health_improvements",
         "rawType": "object",
         "type": "unknown"
        },
        {
         "name": "How important is having regular access to sauna?\r\n\r\nOn a scale of 1 to 5, where 1 is low and 5 is high",
         "rawType": "float64",
         "type": "float"
        },
        {
         "name": "enjoyment_reasons",
         "rawType": "object",
         "type": "unknown"
        },
        {
         "name": "Are you satisfied with the temperature at our saunas?",
         "rawType": "object",
         "type": "unknown"
        },
        {
         "name": "If you’re not satisfied, could you please explain why",
         "rawType": "object",
         "type": "unknown"
        },
        {
         "name": "Are you satisfied with the amount of customers during the sessions?",
         "rawType": "object",
         "type": "unknown"
        },
        {
         "name": "If you’re not satisfied, could you please explain why2",
         "rawType": "object",
         "type": "unknown"
        },
        {
         "name": "Do you feel a sense of belonging or community when using the sauna?",
         "rawType": "float64",
         "type": "float"
        },
        {
         "name": "How would you rate  the overall cleanliness and hygiene of the sauna facilities?\r\n\r\nOn a scale of 1 to 5, where 1 is low and 5 is high",
         "rawType": "float64",
         "type": "float"
        },
        {
         "name": "How would you rate the staff’s friendliness and professionalism? \r\n\r\nOn a scale of 1 to 5, where 1 is low and 5 is high",
         "rawType": "float64",
         "type": "float"
        },
        {
         "name": "How would you rate the overall ambiance and atmosphere of the sauna?\r\n\r\nOn a scale of 1 to 5, where 1 is low and 5 is high",
         "rawType": "float64",
         "type": "float"
        },
        {
         "name": "Are the sauna prices reasonable and in line with your expectations?\r\n\r\nOn a scale of 1 to 5, where 1 is low and 5 is high",
         "rawType": "float64",
         "type": "float"
        },
        {
         "name": "What improvements or additions would you like to see in the sauna facilities or services?",
         "rawType": "object",
         "type": "unknown"
        },
        {
         "name": "Do you know of any specific location where we could set up a community sauna? (e.g., a park, unused building, or local space)",
         "rawType": "object",
         "type": "unknown"
        },
        {
         "name": "What improvements would you suggest for the facilities, services, or events?",
         "rawType": "object",
         "type": "unknown"
        },
        {
         "name": "Are you familiar with our social prescribing offers and services?",
         "rawType": "object",
         "type": "unknown"
        },
        {
         "name": "If yes, how did you hear about it?",
         "rawType": "object",
         "type": "unknown"
        },
        {
         "name": "importance_reason",
         "rawType": "object",
         "type": "unknown"
        },
        {
         "name": "In which area of London would you like us to set up a sauna?",
         "rawType": "object",
         "type": "unknown"
        },
        {
         "name": "What topics would you like to hear more about from us in our communications? (Select all that apply)",
         "rawType": "object",
         "type": "unknown"
        }
       ],
       "ref": "bf513508-1c60-4883-ac97-ca6b756b418a",
       "rows": [
        [
         "0",
         "25–34",
         "Female",
         "White (e.g., British, Irish, other European background)",
         "Yes",
         "Employed",
         "Judaism",
         "Central London",
         "Once or twice",
         "Word of mouth",
         "Monthly",
         "Stratford",
         "Yes",
         "Yes",
         "3.0",
         "Helped with physical pain management, Improved mood, Helped me connect with the outdoors",
         "Yes",
         null,
         "No",
         "a bit too busy sometimes ",
         "3.0",
         "5.0",
         "5.0",
         "5.0",
         "5.0",
         null,
         null,
         null,
         "Yes",
         "Social Media",
         null,
         "Central London",
         "Sauna health benefits, Not-for-profit work"
        ],
        [
         "1",
         "18–24",
         "Male",
         "White (e.g., British, Irish, other European background)",
         "No",
         "Employed",
         "Atheism",
         "South East London",
         "Once or twice",
         "Word of mouth",
         "Rarely",
         "Peckham",
         "Not sure",
         "Not sure",
         "3.0",
         "Improved mood, Improved sense of belonging to the local community., Helped me connect with the outdoors",
         "Yes",
         null,
         "Yes",
         null,
         "4.0",
         "4.0",
         "5.0",
         "5.0",
         "5.0",
         null,
         null,
         null,
         "Yes",
         "Social Media",
         null,
         "South East London",
         null
        ],
        [
         "2",
         "35–44",
         "Male",
         "Asian or Asian British (e.g., Indian, Pakistani, Bangladeshi, Chinese)",
         "No",
         "Employed",
         "Agnosticism",
         "South East London",
         "I was already a regular sauna user",
         "Word of mouth",
         "Weekly",
         "Bermondsey",
         "Not sure",
         "Not sure",
         "4.0",
         "Helped with physical pain management, Improved mood, Assists me with my mental health resilience",
         "Sometimes",
         "It can varies a lot session to session",
         "Yes",
         null,
         "4.0",
         "4.0",
         "5.0",
         "4.0",
         "4.0",
         null,
         null,
         null,
         "No",
         null,
         null,
         "North East London",
         "Behind the scenes, Upcoming events"
        ],
        [
         "3",
         "25–34",
         "Non-binary",
         "Mixed or multiple ethnic groups (e.g., White and Black Caribbean, White and Asian)",
         "No",
         "Employed",
         "Atheism",
         "East London",
         "Once or twice",
         "Word of mouth",
         "Rarely",
         "Hackney Wick",
         "Yes",
         "Yes",
         "4.0",
         "Improved mood, Assists me with my mental health resilience, Increased my body confidence",
         "Yes",
         null,
         "Yes",
         null,
         "3.0",
         "4.0",
         "4.0",
         "4.0",
         "4.0",
         null,
         null,
         null,
         "Yes",
         "Social Media",
         null,
         "Central London",
         "Sauna etiquette or best practices, Not-for-profit work"
        ],
        [
         "4",
         "45–54",
         "Female",
         "White (e.g., British, Irish, other European background)",
         "No",
         "Employed",
         "Judaism",
         "North West London",
         "Once or twice",
         "Word of mouth",
         "Monthly",
         "Hackney Wick",
         "Yes",
         "Yes",
         "3.0",
         "Improved mood, Improved sense of belonging to the local community., Improved my health, Helped me connect with the outdoors, I made new friends at the sauna",
         "Yes",
         null,
         "Yes",
         null,
         "5.0",
         "4.0",
         "5.0",
         "5.0",
         "3.0",
         null,
         null,
         null,
         "No",
         null,
         null,
         "North West London",
         "Sauna health benefits, Upcoming events"
        ],
        [
         "5",
         "25–34",
         "Female",
         "Mixed or multiple ethnic groups (e.g., White and Black Caribbean, White and Asian)",
         "No",
         "Employed",
         "Agnosticism",
         "North London",
         "Once or twice",
         "Word of mouth",
         "Monthly",
         "Hackney Wick",
         "Yes",
         "Yes",
         "5.0",
         "Improved mood, Improved my health, Helped me connect with the outdoors",
         "Yes",
         null,
         "Yes",
         null,
         "5.0",
         "5.0",
         "5.0",
         "5.0",
         "3.0",
         "Dry changing area",
         null,
         null,
         "Yes",
         "Charity Partner",
         "I love the sauna during winter, it helps with my SAD",
         "North East London",
         "Sauna health benefits"
        ],
        [
         "6",
         "25–34",
         "Female",
         "White (e.g., British, Irish, other European background)",
         "No",
         "Employed",
         "Spiritual but not Religious",
         "North East London",
         "I was already a regular sauna user",
         "Word of mouth",
         "Rarely",
         "Hackney Wick",
         "Yes",
         "Yes",
         "3.0",
         "Improved mood, Improved sense of belonging to the local community., Assists me with my mental health resilience, Improved my health, Helped me connect with the outdoors",
         "Yes",
         null,
         "Yes",
         null,
         "4.0",
         "4.0",
         "5.0",
         "5.0",
         "4.0",
         null,
         null,
         "Hot showers! ",
         "No",
         null,
         "It is a place to unwind within a community setting. ",
         "North East London",
         "Sauna health benefits, Sauna etiquette or best practices, Upcoming events, Stories and testimonials from the community"
        ],
        [
         "7",
         "35–44",
         "Female",
         "White (e.g., British, Irish, other European background)",
         "No",
         "Employed",
         "Atheism",
         "South East London",
         "Once or twice",
         "Word of mouth",
         "Monthly",
         "Peckham",
         "Yes",
         "Yes",
         "3.0",
         "Improved mood, Improved sense of belonging to the local community., Helped me connect with the outdoors",
         "Yes",
         null,
         "Yes",
         null,
         "5.0",
         "4.0",
         "5.0",
         "5.0",
         "5.0",
         null,
         null,
         null,
         "No",
         null,
         null,
         null,
         null
        ],
        [
         "8",
         "25–34",
         "Female",
         "White (e.g., British, Irish, other European background)",
         "No",
         "Employed",
         "Atheism",
         "East London",
         "Once or twice",
         "Word of mouth",
         "Rarely",
         "Hackney Wick",
         "No",
         "No",
         "2.0",
         "Improved mood",
         "Yes",
         null,
         "Yes",
         null,
         "1.0",
         "2.0",
         "5.0",
         "4.0",
         "5.0",
         null,
         null,
         "Cleaner cold plunges :) ",
         "Yes",
         "Social Media",
         "I love the fact that it’s highly community oriented with highly reasonable prices for London. You can tell when you walk in thats it’s a very welcoming and open place. Access to these kind of spaces in London is crucial ",
         "North East London",
         "Behind the scenes, Sauna etiquette or best practices, Not-for-profit work"
        ],
        [
         "9",
         "25–34",
         "Female",
         "White (e.g., British, Irish, other European background)",
         "Yes",
         "Employed",
         "Spiritual but not Religious",
         "East London",
         "I was already a regular sauna user",
         "Word of mouth",
         "Monthly",
         "Stratford",
         "Yes",
         "Yes",
         "5.0",
         "Helped with physical pain management, Improved mood, Assists me with my mental health resilience, Helped me connect with the outdoors",
         "Sometimes",
         "Sometimes not hot enough!",
         "Yes",
         null,
         "5.0",
         "5.0",
         "5.0",
         "5.0",
         "5.0",
         null,
         null,
         null,
         "No",
         null,
         null,
         null,
         "Upcoming events"
        ],
        [
         "10",
         "25–34",
         "Male",
         "Other ethnic group (please specify): ______________",
         "No",
         "Employed",
         "Prefer not to say",
         "East London",
         "Once or twice",
         "Word of mouth",
         "Rarely",
         "Hackney Wick",
         "Not sure",
         "Yes",
         "3.0",
         "Helped with physical pain management, Improved my fitness performance, Improved my health",
         "Yes",
         null,
         "Yes",
         null,
         "4.0",
         "5.0",
         "5.0",
         "5.0",
         "4.0",
         null,
         null,
         null,
         "No",
         null,
         null,
         "Central London",
         null
        ],
        [
         "11",
         "25–34",
         "Male",
         "White (e.g., British, Irish, other European background)",
         "No",
         "Employed",
         "Agnosticism",
         "South West London",
         "Once or twice",
         "Word of mouth",
         "Monthly",
         "Hackney Wick",
         "Yes",
         "Yes",
         "5.0",
         "Improved mood, Increased my body confidence",
         "Yes",
         null,
         "Yes",
         null,
         "3.0",
         "5.0",
         "5.0",
         "5.0",
         "3.0",
         null,
         "Unfortunately not ",
         null,
         "No",
         "Social Media",
         "An affordable way to help clear the stresses of the week that is accessible to all ",
         "South West London",
         "Sauna etiquette or best practices"
        ],
        [
         "12",
         "25–34",
         "Female",
         "White (e.g., British, Irish, other European background)",
         "Yes",
         "Employed",
         "Prefer not to say",
         "East London",
         "Somewhat regular",
         "Word of mouth",
         "Rarely",
         "Peckham",
         "Not sure",
         "Yes",
         "3.0",
         "Improved mood, Improved sense of belonging to the local community., Assists me with my mental health resilience, Helped me connect with the outdoors",
         "Sometimes",
         "Could be hotter sometimes",
         "Yes",
         null,
         "4.0",
         "4.0",
         "4.0",
         "5.0",
         "4.0",
         null,
         "Community garden I volunteer at in Stoke Newington - we are currently revamping it!",
         null,
         "Yes",
         "Social Media",
         "Space to connect and unwind",
         "North East London",
         "Upcoming events, Stories and testimonials from the community, Not-for-profit work"
        ],
        [
         "13",
         "45–54",
         "Female",
         "White (e.g., British, Irish, other European background)",
         "No",
         "Employed",
         "Atheism",
         "South East London",
         "Never",
         "Word of mouth",
         "Monthly",
         "Peckham",
         "No",
         "Yes",
         "1.0",
         "Improved mood, Assists me with my mental health resilience",
         "Yes",
         null,
         "Yes",
         null,
         "3.0",
         "3.0",
         "2.0",
         "2.0",
         "3.0",
         null,
         null,
         null,
         "No",
         null,
         "Time for myself ",
         "South East London",
         "Sauna health benefits"
        ],
        [
         "14",
         "25–34",
         "Female",
         "White (e.g., British, Irish, other European background)",
         "Prefer not to say",
         "Employed",
         "Atheism",
         "East London",
         "Never",
         "Word of mouth",
         "Monthly",
         "Hackney Wick",
         "Yes",
         "Yes",
         "4.0",
         "Improved mood, Assists me with my mental health resilience, Improved my health, Helped me connect with the outdoors",
         "Yes",
         null,
         "Yes",
         null,
         "3.0",
         "4.0",
         "4.0",
         "5.0",
         "5.0",
         "I love it - love the free tea, the vibes, the price ",
         null,
         null,
         "Yes",
         null,
         "So good for my mental health and as an LGBT woman it feels like a nice welcoming space for me and my partner to relax! ",
         "Central London",
         "Sauna etiquette or best practices"
        ],
        [
         "15",
         "25–34",
         "Female",
         "White (e.g., British, Irish, other European background)",
         "No",
         "Self employed",
         "Atheism",
         "South East London",
         "Once or twice",
         "Word of mouth",
         "Weekly",
         "Peckham",
         "Yes",
         "Yes",
         "4.0",
         "Helped with physical pain management, Improved my fitness performance, Improved mood, Improved sense of belonging to the local community., Assists me with my mental health resilience, Improved my health, Helped me connect with the outdoors, Increased my body confidence",
         "Yes",
         null,
         "No",
         "Sometimes it's a bit busy, and you have to hover outside of a sauna for there to be room.",
         "5.0",
         "5.0",
         "4.0",
         "5.0",
         "5.0",
         null,
         "There are lots of estates with green spaces across London. That could be a nice way for people from a lower economic-socio background to access the sauna. The consort estate or elephant & castle for example.",
         "Just more sauna's so they are less crowded!",
         "No",
         null,
         "It's very good to decompress at the end of a busy week and to prepare for the week ahead. It's also a nice alternative social activity to the drinking culture that we're so obsessed with here in the UK.",
         "South East London",
         "Sauna health benefits, Upcoming events"
        ],
        [
         "16",
         "35–44",
         "Male",
         "White (e.g., British, Irish, other European background)",
         "No",
         "Employed",
         "Atheism",
         "East London",
         "Once or twice",
         "Word of mouth",
         "Monthly",
         "Hackney Wick",
         "Yes",
         "Yes",
         "4.0",
         "Helped with physical pain management, Improved my fitness performance, Improved mood, Improved sense of belonging to the local community., Assists me with my mental health resilience, Improved my health, Helped me connect with the outdoors",
         "Yes",
         null,
         "Yes",
         null,
         "3.0",
         "4.0",
         "5.0",
         "5.0",
         "4.0",
         "Better/warmer changing rooms",
         null,
         null,
         "No",
         null,
         null,
         "North East London",
         "Sauna health benefits, Behind the scenes, Upcoming events, Not-for-profit work"
        ],
        [
         "17",
         "35–44",
         "Female",
         "White (e.g., British, Irish, other European background)",
         "No",
         "Employed",
         "Atheism",
         "East London",
         "Once or twice",
         "Community events",
         "Monthly",
         "Hackney Wick",
         "Not sure",
         "Yes",
         "3.0",
         "Improved mood, Helped me connect with the outdoors, I made new friends at the sauna",
         "Yes",
         null,
         "Yes",
         null,
         "4.0",
         "3.0",
         "4.0",
         "4.0",
         "4.0",
         null,
         null,
         null,
         "No",
         "Mama Swim",
         null,
         "North East London",
         null
        ],
        [
         "18",
         "25–34",
         "Female",
         "White (e.g., British, Irish, other European background)",
         "No",
         "Unemployed",
         "Christianity",
         "North London",
         "I was already a regular sauna user",
         "Word of mouth",
         "Rarely",
         "Hackney Wick",
         "Yes",
         "Yes",
         "5.0",
         "Improved mood, Improved my health",
         "Yes",
         null,
         "Yes",
         null,
         "5.0",
         "3.0",
         "5.0",
         "5.0",
         "4.0",
         null,
         "Hampstead Heath! The lido sauna is always so packed, we need another.",
         null,
         "No",
         null,
         "Physical and mental health",
         "North West London",
         "Sauna health benefits, Behind the scenes, Upcoming events"
        ],
        [
         "19",
         "45–54",
         "Female",
         "Mixed or multiple ethnic groups (e.g., White and Black Caribbean, White and Asian)",
         "No",
         "Self employed",
         "Spiritual but not Religious",
         "North East London",
         "I was already a regular sauna user",
         "Word of mouth",
         "Monthly",
         "Stratford",
         "Yes",
         "Yes",
         "5.0",
         "Improved mood, Improved sense of belonging to the local community., Assists me with my mental health resilience, Increased my body confidence",
         "Sometimes",
         "could be warmer on occasion ",
         "Yes",
         null,
         "4.0",
         "4.0",
         "5.0",
         "5.0",
         "4.0",
         "stratford- proper curtains on changing rooms. New lockers additional  lockers Maybe a few benches to sit on inbetween areas. ",
         "wood green back of iceland industrial spaces ",
         null,
         "Yes",
         "Social Media",
         "reasonable prices and keeps people local and connected without shopping as main entertainment. Great for community spirit.",
         "North East London",
         null
        ],
        [
         "20",
         "25–34",
         "Male",
         "White (e.g., British, Irish, other European background)",
         "No",
         "Employed",
         "Atheism",
         "South East London",
         "Never",
         "Word of mouth",
         "Weekly",
         "Peckham",
         "Yes",
         "Yes",
         "5.0",
         "Improved mood, Improved sense of belonging to the local community., Assists me with my mental health resilience, Improved my health, Helped me connect with the outdoors, I made new friends at the sauna",
         "Yes",
         null,
         "Yes",
         null,
         "5.0",
         "5.0",
         "5.0",
         "5.0",
         "5.0",
         null,
         null,
         null,
         "No",
         null,
         null,
         null,
         "Sauna health benefits, Upcoming events, Not-for-profit work"
        ],
        [
         "21",
         "45–54",
         "Female",
         "White (e.g., British, Irish, other European background)",
         "No",
         "Employed",
         "Christianity",
         "East London",
         "Once or twice",
         "Word of mouth",
         "Rarely",
         "Hackney Wick",
         "Yes",
         "Yes",
         "4.0",
         "Improved my health",
         "Yes",
         null,
         "Yes",
         null,
         "3.0",
         "4.0",
         "5.0",
         "5.0",
         "5.0",
         null,
         null,
         null,
         "Yes",
         "Event",
         "Relax unwind ",
         "North East London",
         "Sauna health benefits, Behind the scenes, Sauna etiquette or best practices, Upcoming events, Stories and testimonials from the community, Not-for-profit work"
        ],
        [
         "22",
         "25–34",
         "Female",
         "White (e.g., British, Irish, other European background)",
         "No",
         "Employed",
         "Atheism",
         "East London",
         "Once or twice",
         "Word of mouth",
         "Monthly",
         "Hackney Wick",
         "Not sure",
         "Yes",
         "5.0",
         "Improved mood, Improved sense of belonging to the local community., Assists me with my mental health resilience, Helped me connect with the outdoors, Increased my body confidence",
         "Yes",
         null,
         "Yes",
         null,
         "3.0",
         "4.0",
         "4.0",
         "5.0",
         "2.0",
         "A toilet near the sauna and a hot shower",
         null,
         null,
         "No",
         null,
         "It's a place to relax, connect with yourself and the people that is with you. ",
         "North East London",
         "Sauna health benefits, Behind the scenes, Sauna etiquette or best practices, Upcoming events"
        ],
        [
         "23",
         "25–34",
         "Female",
         "White (e.g., British, Irish, other European background)",
         "No",
         "Employed",
         "Agnosticism",
         "North London",
         "Once or twice",
         "Voucher given as birthday present",
         "Rarely",
         "Hackney Wick",
         "No",
         "No",
         "3.0",
         "Improved sense of belonging to the local community., Helped me connect with the outdoors, Increased my body confidence",
         "Yes",
         null,
         "Yes",
         null,
         "4.0",
         "4.0",
         "5.0",
         "5.0",
         "5.0",
         null,
         "Shoreditch Park",
         "More changing rooms and improved changing rooms",
         "No",
         null,
         "Lack of community in London, places where (mostly) young people socialize are often oppressive, alcohol or drug-oriented or judgmental spaces. The sauna feels like an antidote to all of that and was really refreshing to experience.",
         "North East London",
         "Sauna health benefits, Upcoming events"
        ],
        [
         "24",
         "35–44",
         "Female",
         "White (e.g., British, Irish, other European background)",
         "No",
         "Business owner",
         "Agnosticism",
         "North London",
         "Once or twice",
         "Word of mouth",
         "Weekly",
         "Hackney Wick",
         "Yes",
         "Yes",
         "5.0",
         "Improved mood, Assists me with my mental health resilience, Helped me connect with the outdoors",
         null,
         null,
         "Yes",
         null,
         "4.0",
         "5.0",
         "5.0",
         "5.0",
         "5.0",
         null,
         null,
         null,
         "Yes",
         "Social Media",
         "My mental health",
         "North West London",
         "Sauna health benefits"
        ],
        [
         "25",
         "35–44",
         "Female",
         "Mixed or multiple ethnic groups (e.g., White and Black Caribbean, White and Asian)",
         "Yes",
         "Employed",
         "Spiritual but not Religious",
         "East London",
         "Once or twice",
         "Word of mouth",
         "Weekly",
         "Hackney Wick",
         "Yes",
         "Yes",
         "5.0",
         "Helped with physical pain management, Improved mood, Improved sense of belonging to the local community., Assists me with my mental health resilience, Improved my health, Helped me connect with the outdoors",
         "Yes",
         null,
         "No",
         "A little too busy, but I understand there's a lot of demand so I hope you open up another sauna in Hackney",
         "5.0",
         "5.0",
         "5.0",
         "5.0",
         "5.0",
         null,
         "Would it be possible to set one up in Hackney Downs? Or maybe by the Claton Hart there's a building that seems unused in last few years. Or maybe in Millfields? Or the marshes?",
         "Perfect as is",
         "No",
         null,
         "Very important for mental and physical health, affordable rates mean it's more of a community space, which is critical to the atmosphere of the place and therefore its capacity to improve health",
         "Hackney seems to be super busy so another sauna would be great",
         "Upcoming events"
        ],
        [
         "26",
         "35–44",
         "Female",
         "White (e.g., British, Irish, other European background)",
         "No",
         "Employed",
         "Spiritual but not Religious",
         "South East London",
         "Once or twice",
         "Instagram",
         "Monthly",
         "Peckham",
         "Yes",
         "Yes",
         "4.0",
         "Improved mood, Improved sense of belonging to the local community., Improved my health, Helped me connect with the outdoors, Increased my body confidence",
         "Yes",
         null,
         "Yes",
         null,
         "4.0",
         "4.0",
         "4.0",
         "5.0",
         "4.0",
         "Warm showers would be great but not essential",
         "Myatts fields park",
         null,
         "No",
         null,
         "It’s a community space to relax, recharge, meet others",
         "South East London",
         "Sauna health benefits, Upcoming events"
        ],
        [
         "27",
         "25–34",
         "Female",
         "Asian or Asian British (e.g., Indian, Pakistani, Bangladeshi, Chinese)",
         "No",
         "Employed",
         "Agnosticism",
         "North East London",
         "Once or twice",
         "Word of mouth",
         "Monthly",
         "Hackney Wick",
         "Not sure",
         "Not sure",
         "2.0",
         "Improved mood",
         "Sometimes",
         "The big sauna’s door has a big gap at the bottom which leaks cold air ",
         "No",
         "Too many people at once",
         "1.0",
         "3.0",
         "5.0",
         "4.0",
         "5.0",
         null,
         "The industrial estate near Markfield Park in Tottenham",
         null,
         "No",
         null,
         null,
         "North East London",
         "Upcoming events"
        ],
        [
         "28",
         "45–54",
         "Male",
         "White (e.g., British, Irish, other European background)",
         "Yes",
         "Self employed",
         "Spiritual but not Religious",
         "East London",
         "I was already a regular sauna user",
         "Word of mouth",
         "Rarely",
         "Hackney Wick",
         "Yes",
         "Yes",
         "3.0",
         "Improved mood, Assists me with my mental health resilience, Helped me connect with the outdoors",
         "Yes",
         null,
         "Yes",
         null,
         "3.0",
         "3.0",
         "4.0",
         "3.0",
         "3.0",
         null,
         null,
         null,
         "Yes",
         "knockout boxing club",
         null,
         "North East London",
         "Sauna health benefits, Upcoming events, Not-for-profit work"
        ],
        [
         "29",
         "35–44",
         "Female",
         "White (e.g., British, Irish, other European background)",
         "No",
         "Self employed",
         "Spiritual but not Religious",
         "East London",
         "Once or twice",
         "Instagram",
         "Rarely",
         "Stratford",
         "Not sure",
         "Not sure",
         "3.0",
         "Improved mood, Helped me connect with the outdoors",
         "Yes",
         null,
         "Yes",
         null,
         "4.0",
         "5.0",
         "5.0",
         "5.0",
         "5.0",
         null,
         "No but somewhere around Leytonstone / Wanstead would have been amazing :)",
         null,
         "No",
         null,
         "Affordable sauna with a community spirit and happy vibes, what's not to love!",
         "North East London",
         "Behind the scenes, Upcoming events, Not-for-profit work"
        ],
        [
         "30",
         "25–34",
         "Female",
         "White (e.g., British, Irish, other European background)",
         "No",
         "Employed",
         "Atheism",
         "South East London",
         "Once or twice",
         "National newspaper article.",
         "Weekly",
         "Bermondsey",
         "Yes",
         "Yes",
         "5.0",
         "Improved mood, Improved sense of belonging to the local community., Assists me with my mental health resilience, Helped me connect with the outdoors, Increased my body confidence",
         "Sometimes",
         "Some of the saunas struggle to keep the heat! Lots of door opening worsens the heat leaking",
         "Yes",
         null,
         "5.0",
         "5.0",
         "5.0",
         "5.0",
         "5.0",
         "Better changing facilities at Peckham",
         null,
         "Saloon doors on the changing rooms at Peckham should be removed as they’re impractical! More hooks in changing rooms wouldn’t go amiss. More ice baths! Opportunity to buy a coffee at a bigger site such as Ruskin Park could be nice. Any excuse to hang around afterwards with friends ",
         "Yes",
         "Posters",
         "The community sauna provides a sense of belonging that is often missing for nomadic renters! Everyone is always so friendly and you never ever regret a sauna session. ",
         "South East London",
         "Behind the scenes, Sauna etiquette or best practices, Upcoming events, Not-for-profit work"
        ],
        [
         "31",
         "35–44",
         "Female",
         "White (e.g., British, Irish, other European background)",
         "No",
         "Both employed and self-employed",
         "Spiritual but not Religious",
         "North East London",
         "not regular but frequently enough",
         "Word of mouth",
         "Rarely",
         "Hackney Wick",
         "Not sure",
         "Not sure",
         "4.0",
         "Improved sense of belonging to the local community., Assists me with my mental health resilience, self-care quiet time, somewhat new experience",
         "Yes",
         null,
         "Yes",
         "BUT the one quiet sauna is often full",
         "4.0",
         "4.0",
         "5.0",
         "5.0",
         "5.0",
         "I'd only personally use them more if I had the disposable income. It's still for me just a treat, rather than something I can regularly use. I appreciate everything you do, including the small touches like the herbal tea.",
         "You've asked us at The Castle before but not possible for the available land! But assume you may have tried Better for West Reservoir?",
         "An additional quiet sauna, even if only for certain sessions",
         "No",
         null,
         "Supporting a community-interest company, that puts that ahead of profit for profit's sake. Creating a unique space for the sensory overload of this city and general modern life. A nice experience and something different to do while being accessible and mostly affordable.",
         "North East London",
         "Sauna health benefits, Sauna etiquette or best practices"
        ],
        [
         "32",
         "25–34",
         "Male",
         "Prefer not to say",
         "No",
         "Employed",
         "Prefer not to say",
         "South West London",
         "I was already a regular sauna user",
         "Word of mouth",
         "Rarely",
         "Hackney Wick",
         "Yes",
         "Yes",
         "5.0",
         "Improved mood, Improved my health, Helped me connect with the outdoors",
         "Yes",
         null,
         "Yes",
         null,
         "4.0",
         "5.0",
         "5.0",
         "5.0",
         "4.0",
         null,
         "Not now",
         "Everything works for me",
         "No",
         "Event",
         null,
         "South West London",
         "Upcoming events"
        ],
        [
         "33",
         "35–44",
         "Female",
         "White (e.g., British, Irish, other European background)",
         "No",
         "Employed",
         "Judaism",
         "North East London",
         "I was already a regular sauna user",
         "Word of mouth",
         "Monthly",
         "Hackney Wick",
         "Yes",
         "Yes",
         "5.0",
         "Improved mood, Assists me with my mental health resilience, Helped me connect with the outdoors",
         "Yes",
         null,
         "Yes",
         null,
         "5.0",
         "5.0",
         "5.0",
         "5.0",
         "5.0",
         null,
         null,
         "Events sell out so fast!",
         "No",
         null,
         null,
         "North East London",
         "Behind the scenes, Sauna etiquette or best practices, Upcoming events"
        ],
        [
         "34",
         "25–34",
         "Female",
         "White (e.g., British, Irish, other European background)",
         "No",
         "Self employed",
         "Atheism",
         "East London",
         "I was already a regular sauna user",
         "Word of mouth",
         "Weekly",
         "Hackney Wick",
         "Not sure",
         "Yes",
         "5.0",
         "Helped with physical pain management, Improved mood, Improved sense of belonging to the local community.",
         "Yes",
         null,
         "Yes",
         null,
         "3.0",
         "3.0",
         "5.0",
         "4.0",
         "4.0",
         null,
         null,
         null,
         "No",
         null,
         null,
         null,
         "Sauna health benefits, Sauna etiquette or best practices, Stories and testimonials from the community"
        ],
        [
         "35",
         "25–34",
         "Female",
         "White (e.g., British, Irish, other European background)",
         "No",
         "Employed",
         "Atheism",
         "West London",
         "I was already a regular sauna user",
         "Website",
         "Monthly",
         "Stratford",
         "No",
         "Yes",
         "4.0",
         "Improved mood, Assists me with my mental health resilience, Helped me connect with the outdoors, Increased my body confidence",
         "Yes",
         null,
         "Yes",
         null,
         "4.0",
         "1.0",
         "1.0",
         "1.0",
         "2.0",
         "Open sauna in North West London! Also I would add some sessions without swimming suits, using sheets to cover, sauna feels so much nicer without swimming suits ",
         "No",
         null,
         "No",
         null,
         "I need regular self care. Sauna is great for my tired muscles and skin. I love the feeling of being in sauna and going to cold plunge after. I am much more resilient to cold water now. I feel mentally and physically relaxed after each session and my body loved it. ",
         "North West London",
         "Sauna health benefits, Sauna etiquette or best practices, Upcoming events, Not-for-profit work"
        ],
        [
         "36",
         "25–34",
         "Female",
         "White (e.g., British, Irish, other European background)",
         "No",
         "Employed",
         "Agnosticism",
         "South East London",
         "Never",
         "Word of mouth",
         "Weekly",
         "Peckham",
         "Not sure",
         "Yes",
         "5.0",
         "Improved mood, Improved sense of belonging to the local community., Helped me connect with the outdoors",
         "Sometimes",
         "Could be hotter",
         "Yes",
         null,
         "4.0",
         "5.0",
         "5.0",
         "5.0",
         "5.0",
         "having a more covered area for belongings so they don't get rained on",
         null,
         null,
         "No",
         null,
         "To have a London based healthy activity to do with my friends that doesn't involve drinking and eating, and helps me connect with nature more",
         "South East London",
         "Upcoming events"
        ],
        [
         "37",
         "25–34",
         "Female",
         "White (e.g., British, Irish, other European background)",
         "No",
         "Employed",
         "Atheism",
         "South East London",
         "Once or twice",
         "Word of mouth",
         "Weekly",
         "Peckham",
         "Not sure",
         "Yes",
         "3.0",
         "Improved mood, Improved sense of belonging to the local community.",
         "Yes",
         null,
         "No",
         "Sometimes feels like too many people",
         "3.0",
         "4.0",
         "4.0",
         "4.0",
         "4.0",
         null,
         null,
         null,
         null,
         null,
         null,
         "South East London",
         "Sauna health benefits"
        ],
        [
         "38",
         "45–54",
         "Female",
         "White (e.g., British, Irish, other European background)",
         "No",
         "Employed",
         "Atheism",
         "East London",
         "frequently ",
         "Word of mouth",
         "Monthly",
         "Hackney Wick",
         "Yes",
         "Yes",
         "5.0",
         "Helped with physical pain management, Improved mood, Assists me with my mental health resilience",
         "Yes",
         null,
         "Yes",
         null,
         "5.0",
         "2.0",
         "5.0",
         "4.0",
         "5.0",
         "space to lay down and rest between saunas",
         "walthamstow ",
         "rest area",
         "Yes",
         "Social Media",
         "atmosphere like a festival",
         "leyton",
         "Behind the scenes, Upcoming events"
        ],
        [
         "39",
         "35–44",
         "Male",
         "White (e.g., British, Irish, other European background)",
         "No",
         "Employed",
         "Christianity",
         "North London",
         "Once or twice",
         "Word of mouth",
         "Monthly",
         "Stratford",
         "Yes",
         "Yes",
         "3.0",
         "Improved mood, Assists me with my mental health resilience",
         "Yes",
         null,
         "No",
         "To many people ",
         "3.0",
         "4.0",
         "5.0",
         "4.0",
         "4.0",
         null,
         "no",
         null,
         "No",
         null,
         "For mental health ",
         "North East London",
         "Sauna health benefits"
        ],
        [
         "40",
         "25–34",
         "Male",
         "White (e.g., British, Irish, other European background)",
         "No",
         "Employed",
         "Atheism",
         "East London",
         "Once or twice",
         "Word of mouth",
         "Monthly",
         "Stratford",
         "No",
         "Yes",
         "4.0",
         "Improved my fitness performance, Improved mood",
         "Yes",
         null,
         "No",
         "sometimes feels a bit to busy at a fully booked Stratford session",
         "3.0",
         "5.0",
         "5.0",
         "4.0",
         "3.0",
         null,
         null,
         null,
         "No",
         null,
         "it is an accessible, well kept sauna with plunge facility",
         "North East London",
         "Behind the scenes"
        ],
        [
         "41",
         "25–34",
         "Female",
         "White (e.g., British, Irish, other European background)",
         "No",
         "Student",
         "Spiritual but not Religious",
         "North London",
         "Once or twice",
         "Word of mouth",
         "Monthly",
         "Hackney Wick",
         "Yes",
         "Yes",
         "4.0",
         "Improved mood, Improved sense of belonging to the local community., Assists me with my mental health resilience",
         "Yes",
         null,
         "Yes",
         null,
         "4.0",
         "4.0",
         "5.0",
         "4.0",
         "4.0",
         null,
         null,
         null,
         "No",
         null,
         "It's a great reset. It's so valuable to have community spaces that aren't just about profit. It's a lovely way to see friends. ",
         "Central London",
         "Sauna health benefits, Behind the scenes, Sauna etiquette or best practices"
        ],
        [
         "42",
         "25–34",
         "Non-binary",
         "Mixed or multiple ethnic groups (e.g., White and Black Caribbean, White and Asian)",
         "Yes",
         "Self employed",
         "Spiritual but not Religious",
         "North London",
         "I was already a regular sauna user",
         "Instagram",
         "Rarely",
         "Hackney Wick",
         "Yes",
         "Yes",
         "5.0",
         "Helped with physical pain management, Improved mood, Improved sense of belonging to the local community., Assists me with my mental health resilience, Improved my health, I made new friends at the sauna, Increased my body confidence",
         "Yes",
         null,
         "Yes",
         null,
         "5.0",
         "5.0",
         "5.0",
         "5.0",
         "5.0",
         null,
         "Somewhere in Enfield - north. I’m sure there are lots of spots! ",
         null,
         "No",
         null,
         "Ability to relax with like minded people. Other saunas I have been to - in leisure centres I have not felt comfortable to be myself in. At the community sauna, I have never felt judged. ",
         "North! Enfield ",
         "Sauna etiquette or best practices, Upcoming events, Not-for-profit work"
        ],
        [
         "43",
         "55–64",
         "Female",
         "White (e.g., British, Irish, other European background)",
         "No",
         "Self employed",
         "Atheism",
         "South East London",
         "I was already a regular sauna user",
         "Word of mouth",
         "Monthly",
         "Peckham",
         "Yes",
         "Yes",
         "5.0",
         "Improved mood, Improved sense of belonging to the local community., Assists me with my mental health resilience, Improved my health, I made new friends at the sauna",
         "Yes",
         null,
         "Yes",
         null,
         "5.0",
         "5.0",
         "5.0",
         "5.0",
         "5.0",
         null,
         null,
         null,
         "Yes",
         "Social Media",
         "It is great for my mental and physical health, as well as a feeling of community. I love the sauna! Best thing that has happened in the area! ",
         "South East London",
         "Sauna health benefits, Behind the scenes, Sauna etiquette or best practices, Upcoming events, Not-for-profit work"
        ],
        [
         "44",
         "25–34",
         "Female",
         "White (e.g., British, Irish, other European background)",
         "No",
         "Employed",
         "Atheism",
         "East London",
         "I was already a regular sauna user",
         "Word of mouth",
         "Monthly",
         "Hackney Wick",
         "Yes",
         "Yes",
         "5.0",
         "Improved mood, Improved sense of belonging to the local community.",
         "Yes",
         null,
         "No",
         "Sometimes a little crowded ",
         "5.0",
         "4.0",
         "3.0",
         "3.0",
         "5.0",
         "Bathroom closer to the sauna area ",
         "No ",
         null,
         "No",
         null,
         null,
         "North East London",
         null
        ],
        [
         "45",
         "25–34",
         "Female",
         "White (e.g., British, Irish, other European background)",
         "Yes",
         "Self employed",
         "Agnosticism",
         "South West London",
         "I was already a regular sauna user",
         "TikTok",
         "Rarely",
         "Hackney Wick",
         "Yes",
         "Yes",
         "5.0",
         "Helped with physical pain management, Improved my fitness performance, Improved mood, Assists me with my mental health resilience, Improved my health, Increased my body confidence",
         "Yes",
         null,
         "Yes",
         null,
         "3.0",
         "4.0",
         "4.0",
         "4.0",
         "4.0",
         "Hot water showers and change rooms with hair dryers (for winter)",
         null,
         "A branch in the SW!",
         "No",
         null,
         "Brings like minded people together",
         "South West London",
         null
        ],
        [
         "46",
         "25–34",
         "Female",
         "White (e.g., British, Irish, other European background)",
         "No",
         "Employed",
         "Atheism",
         "North London",
         "Once or twice",
         "Word of mouth",
         "Monthly",
         "Hackney Wick",
         "Not sure",
         "Yes",
         "4.0",
         "Improved mood, Improved sense of belonging to the local community., Assists me with my mental health resilience, Helped me connect with the outdoors",
         "Yes",
         null,
         "Yes",
         null,
         "4.0",
         "4.0",
         "5.0",
         "5.0",
         "4.0",
         null,
         null,
         null,
         "No",
         null,
         null,
         null,
         "Sauna health benefits, Sauna etiquette or best practices"
        ],
        [
         "47",
         "35–44",
         "Female",
         "Black, Black British, African, or Caribbean",
         "Yes",
         "Unemployed",
         "Spiritual but not Religious",
         "South East London",
         "I was already a regular sauna user",
         "Instagram",
         "Rarely",
         "Peckham",
         "Yes",
         "Yes",
         "5.0",
         "Helped with physical pain management, Improved mood, Assists me with my mental health resilience, Helped me connect with the outdoors",
         "Yes",
         null,
         "Yes",
         null,
         "5.0",
         "3.0",
         "4.0",
         "5.0",
         "5.0",
         "Wearing flip flops compulsory ",
         "N/a",
         "N/a",
         "No",
         null,
         "A place to be in nature, essential self - care from living in London. A calm welcoming space to relax. I have chronic pain and it helps with that and my overall mood",
         "South East London",
         "Sauna health benefits, Behind the scenes, Sauna etiquette or best practices, Upcoming events, Stories and testimonials from the community, Not-for-profit work"
        ],
        [
         "48",
         "35–44",
         "Male",
         "Mixed or multiple ethnic groups (e.g., White and Black Caribbean, White and Asian)",
         "No",
         "Employed",
         "Islam",
         "South East London",
         "Once or twice",
         "Word of mouth",
         "Weekly",
         "Peckham",
         "Yes",
         "Yes",
         "4.0",
         "Improved mood, Improved sense of belonging to the local community., Helped me connect with the outdoors",
         "Yes",
         null,
         "Yes",
         null,
         "4.0",
         "3.0",
         "3.0",
         "3.0",
         "3.0",
         null,
         "Alexandra Recreation Ground",
         null,
         "No",
         null,
         "Helps me connect with outdoors and not fear the cold.",
         "South East London",
         "Sauna health benefits, Behind the scenes"
        ],
        [
         "49",
         "25–34",
         "Female",
         "White (e.g., British, Irish, other European background)",
         "No",
         "Employed",
         "Christianity",
         "West London",
         "Never",
         "Word of mouth",
         "Rarely",
         "Hackney Wick",
         "Not sure",
         "Not sure",
         "4.0",
         "Improved my fitness performance, Improved my health, Helped me connect with the outdoors, Increased my body confidence",
         "Yes",
         null,
         "Yes",
         null,
         "4.0",
         "4.0",
         "4.0",
         "4.0",
         "4.0",
         null,
         "Marylebone",
         "free community sauna nights once a month to make it more accessible",
         "No",
         "Social Media",
         null,
         "North West London",
         "Upcoming events"
        ]
       ],
       "shape": {
        "columns": 32,
        "rows": 1799
       }
      },
      "text/html": [
       "<div>\n",
       "<style scoped>\n",
       "    .dataframe tbody tr th:only-of-type {\n",
       "        vertical-align: middle;\n",
       "    }\n",
       "\n",
       "    .dataframe tbody tr th {\n",
       "        vertical-align: top;\n",
       "    }\n",
       "\n",
       "    .dataframe thead th {\n",
       "        text-align: right;\n",
       "    }\n",
       "</style>\n",
       "<table border=\"1\" class=\"dataframe\">\n",
       "  <thead>\n",
       "    <tr style=\"text-align: right;\">\n",
       "      <th></th>\n",
       "      <th>age</th>\n",
       "      <th>gender</th>\n",
       "      <th>ethnicity</th>\n",
       "      <th>disability_health_condition</th>\n",
       "      <th>employment_status</th>\n",
       "      <th>religious_belief</th>\n",
       "      <th>location</th>\n",
       "      <th>Had you been to a sauna before you came to Community Sauna?</th>\n",
       "      <th>How did you hear about the Community Sauna?</th>\n",
       "      <th>visit_frequency</th>\n",
       "      <th>...</th>\n",
       "      <th>How would you rate the overall ambiance and atmosphere of the sauna?\\r\\n\\r\\nOn a scale of 1 to 5, where 1 is low and 5 is high</th>\n",
       "      <th>Are the sauna prices reasonable and in line with your expectations?\\r\\n\\r\\nOn a scale of 1 to 5, where 1 is low and 5 is high</th>\n",
       "      <th>What improvements or additions would you like to see in the sauna facilities or services?</th>\n",
       "      <th>Do you know of any specific location where we could set up a community sauna? (e.g., a park, unused building, or local space)</th>\n",
       "      <th>What improvements would you suggest for the facilities, services, or events?</th>\n",
       "      <th>Are you familiar with our social prescribing offers and services?</th>\n",
       "      <th>If yes, how did you hear about it?</th>\n",
       "      <th>importance_reason</th>\n",
       "      <th>In which area of London would you like us to set up a sauna?</th>\n",
       "      <th>What topics would you like to hear more about from us in our communications? (Select all that apply)</th>\n",
       "    </tr>\n",
       "  </thead>\n",
       "  <tbody>\n",
       "    <tr>\n",
       "      <th>0</th>\n",
       "      <td>25–34</td>\n",
       "      <td>Female</td>\n",
       "      <td>White (e.g., British, Irish, other European ba...</td>\n",
       "      <td>Yes</td>\n",
       "      <td>Employed</td>\n",
       "      <td>Judaism</td>\n",
       "      <td>Central London</td>\n",
       "      <td>Once or twice</td>\n",
       "      <td>Word of mouth</td>\n",
       "      <td>Monthly</td>\n",
       "      <td>...</td>\n",
       "      <td>5.0</td>\n",
       "      <td>5.0</td>\n",
       "      <td>NaN</td>\n",
       "      <td>NaN</td>\n",
       "      <td>NaN</td>\n",
       "      <td>Yes</td>\n",
       "      <td>Social Media</td>\n",
       "      <td>NaN</td>\n",
       "      <td>Central London</td>\n",
       "      <td>Sauna health benefits, Not-for-profit work</td>\n",
       "    </tr>\n",
       "    <tr>\n",
       "      <th>1</th>\n",
       "      <td>18–24</td>\n",
       "      <td>Male</td>\n",
       "      <td>White (e.g., British, Irish, other European ba...</td>\n",
       "      <td>No</td>\n",
       "      <td>Employed</td>\n",
       "      <td>Atheism</td>\n",
       "      <td>South East London</td>\n",
       "      <td>Once or twice</td>\n",
       "      <td>Word of mouth</td>\n",
       "      <td>Rarely</td>\n",
       "      <td>...</td>\n",
       "      <td>5.0</td>\n",
       "      <td>5.0</td>\n",
       "      <td>NaN</td>\n",
       "      <td>NaN</td>\n",
       "      <td>NaN</td>\n",
       "      <td>Yes</td>\n",
       "      <td>Social Media</td>\n",
       "      <td>NaN</td>\n",
       "      <td>South East London</td>\n",
       "      <td>NaN</td>\n",
       "    </tr>\n",
       "    <tr>\n",
       "      <th>2</th>\n",
       "      <td>35–44</td>\n",
       "      <td>Male</td>\n",
       "      <td>Asian or Asian British (e.g., Indian, Pakistan...</td>\n",
       "      <td>No</td>\n",
       "      <td>Employed</td>\n",
       "      <td>Agnosticism</td>\n",
       "      <td>South East London</td>\n",
       "      <td>I was already a regular sauna user</td>\n",
       "      <td>Word of mouth</td>\n",
       "      <td>Weekly</td>\n",
       "      <td>...</td>\n",
       "      <td>4.0</td>\n",
       "      <td>4.0</td>\n",
       "      <td>NaN</td>\n",
       "      <td>NaN</td>\n",
       "      <td>NaN</td>\n",
       "      <td>No</td>\n",
       "      <td>NaN</td>\n",
       "      <td>NaN</td>\n",
       "      <td>North East London</td>\n",
       "      <td>Behind the scenes, Upcoming events</td>\n",
       "    </tr>\n",
       "    <tr>\n",
       "      <th>3</th>\n",
       "      <td>25–34</td>\n",
       "      <td>Non-binary</td>\n",
       "      <td>Mixed or multiple ethnic groups (e.g., White a...</td>\n",
       "      <td>No</td>\n",
       "      <td>Employed</td>\n",
       "      <td>Atheism</td>\n",
       "      <td>East London</td>\n",
       "      <td>Once or twice</td>\n",
       "      <td>Word of mouth</td>\n",
       "      <td>Rarely</td>\n",
       "      <td>...</td>\n",
       "      <td>4.0</td>\n",
       "      <td>4.0</td>\n",
       "      <td>NaN</td>\n",
       "      <td>NaN</td>\n",
       "      <td>NaN</td>\n",
       "      <td>Yes</td>\n",
       "      <td>Social Media</td>\n",
       "      <td>NaN</td>\n",
       "      <td>Central London</td>\n",
       "      <td>Sauna etiquette or best practices, Not-for-pro...</td>\n",
       "    </tr>\n",
       "    <tr>\n",
       "      <th>4</th>\n",
       "      <td>45–54</td>\n",
       "      <td>Female</td>\n",
       "      <td>White (e.g., British, Irish, other European ba...</td>\n",
       "      <td>No</td>\n",
       "      <td>Employed</td>\n",
       "      <td>Judaism</td>\n",
       "      <td>North West London</td>\n",
       "      <td>Once or twice</td>\n",
       "      <td>Word of mouth</td>\n",
       "      <td>Monthly</td>\n",
       "      <td>...</td>\n",
       "      <td>5.0</td>\n",
       "      <td>3.0</td>\n",
       "      <td>NaN</td>\n",
       "      <td>NaN</td>\n",
       "      <td>NaN</td>\n",
       "      <td>No</td>\n",
       "      <td>NaN</td>\n",
       "      <td>NaN</td>\n",
       "      <td>North West London</td>\n",
       "      <td>Sauna health benefits, Upcoming events</td>\n",
       "    </tr>\n",
       "    <tr>\n",
       "      <th>...</th>\n",
       "      <td>...</td>\n",
       "      <td>...</td>\n",
       "      <td>...</td>\n",
       "      <td>...</td>\n",
       "      <td>...</td>\n",
       "      <td>...</td>\n",
       "      <td>...</td>\n",
       "      <td>...</td>\n",
       "      <td>...</td>\n",
       "      <td>...</td>\n",
       "      <td>...</td>\n",
       "      <td>...</td>\n",
       "      <td>...</td>\n",
       "      <td>...</td>\n",
       "      <td>...</td>\n",
       "      <td>...</td>\n",
       "      <td>...</td>\n",
       "      <td>...</td>\n",
       "      <td>...</td>\n",
       "      <td>...</td>\n",
       "      <td>...</td>\n",
       "    </tr>\n",
       "    <tr>\n",
       "      <th>1794</th>\n",
       "      <td>25–34</td>\n",
       "      <td>Female</td>\n",
       "      <td>White (e.g., British, Irish, other European ba...</td>\n",
       "      <td>No</td>\n",
       "      <td>Employed</td>\n",
       "      <td>Spiritual but not Religious</td>\n",
       "      <td>East London</td>\n",
       "      <td>Once or twice</td>\n",
       "      <td>Word of mouth</td>\n",
       "      <td>Rarely</td>\n",
       "      <td>...</td>\n",
       "      <td>5.0</td>\n",
       "      <td>5.0</td>\n",
       "      <td>NaN</td>\n",
       "      <td>NaN</td>\n",
       "      <td>NaN</td>\n",
       "      <td>No</td>\n",
       "      <td>NaN</td>\n",
       "      <td>It is a great social activity to do as a group...</td>\n",
       "      <td>South East London</td>\n",
       "      <td>NaN</td>\n",
       "    </tr>\n",
       "    <tr>\n",
       "      <th>1795</th>\n",
       "      <td>25–34</td>\n",
       "      <td>Female</td>\n",
       "      <td>White (e.g., British, Irish, other European ba...</td>\n",
       "      <td>No</td>\n",
       "      <td>Employed</td>\n",
       "      <td>Atheism</td>\n",
       "      <td>South West London</td>\n",
       "      <td>Once or twice</td>\n",
       "      <td>Friend took me</td>\n",
       "      <td>Rarely</td>\n",
       "      <td>...</td>\n",
       "      <td>4.0</td>\n",
       "      <td>5.0</td>\n",
       "      <td>There wasn’t a light in the changing room, pho...</td>\n",
       "      <td>Unsure of a specific location but some (in/clo...</td>\n",
       "      <td>Changing room lighting</td>\n",
       "      <td>No</td>\n",
       "      <td>NaN</td>\n",
       "      <td>I felt great after the session and would like ...</td>\n",
       "      <td>South West London</td>\n",
       "      <td>Sauna health benefits, Sauna etiquette or best...</td>\n",
       "    </tr>\n",
       "    <tr>\n",
       "      <th>1796</th>\n",
       "      <td>25–34</td>\n",
       "      <td>Female</td>\n",
       "      <td>Mixed or multiple ethnic groups (e.g., White a...</td>\n",
       "      <td>No</td>\n",
       "      <td>Self employed</td>\n",
       "      <td>Agnosticism</td>\n",
       "      <td>West London</td>\n",
       "      <td>I was already a regular sauna user</td>\n",
       "      <td>Word of mouth</td>\n",
       "      <td>Rarely</td>\n",
       "      <td>...</td>\n",
       "      <td>5.0</td>\n",
       "      <td>5.0</td>\n",
       "      <td>Offering some sort of salt scrub to pair well ...</td>\n",
       "      <td>NaN</td>\n",
       "      <td>More advertising for events</td>\n",
       "      <td>No</td>\n",
       "      <td>NaN</td>\n",
       "      <td>It feels like you’re distancing yourself from ...</td>\n",
       "      <td>North West London</td>\n",
       "      <td>Behind the scenes, Sauna etiquette or best pra...</td>\n",
       "    </tr>\n",
       "    <tr>\n",
       "      <th>1797</th>\n",
       "      <td>25–34</td>\n",
       "      <td>Female</td>\n",
       "      <td>White (e.g., British, Irish, other European ba...</td>\n",
       "      <td>No</td>\n",
       "      <td>Employed</td>\n",
       "      <td>Atheism</td>\n",
       "      <td>East London</td>\n",
       "      <td>Once or twice</td>\n",
       "      <td>Word of mouth</td>\n",
       "      <td>Weekly</td>\n",
       "      <td>...</td>\n",
       "      <td>5.0</td>\n",
       "      <td>5.0</td>\n",
       "      <td>NaN</td>\n",
       "      <td>NaN</td>\n",
       "      <td>NaN</td>\n",
       "      <td>No</td>\n",
       "      <td>Social Media</td>\n",
       "      <td>Improved mental health, makes me feel strong a...</td>\n",
       "      <td>NaN</td>\n",
       "      <td>Sauna etiquette or best practices</td>\n",
       "    </tr>\n",
       "    <tr>\n",
       "      <th>1798</th>\n",
       "      <td>25–34</td>\n",
       "      <td>Non-binary</td>\n",
       "      <td>Black, Black British, African, or Caribbean, M...</td>\n",
       "      <td>No</td>\n",
       "      <td>Employed</td>\n",
       "      <td>Atheism</td>\n",
       "      <td>East London</td>\n",
       "      <td>Never</td>\n",
       "      <td>Instagram</td>\n",
       "      <td>Monthly</td>\n",
       "      <td>...</td>\n",
       "      <td>5.0</td>\n",
       "      <td>5.0</td>\n",
       "      <td>More showers at Stratford site. Make sure all ...</td>\n",
       "      <td>NaN</td>\n",
       "      <td>NaN</td>\n",
       "      <td>No</td>\n",
       "      <td>NaN</td>\n",
       "      <td>It's relaxing, it gives you the opportunity to...</td>\n",
       "      <td>NaN</td>\n",
       "      <td>Behind the scenes, Sauna etiquette or best pra...</td>\n",
       "    </tr>\n",
       "  </tbody>\n",
       "</table>\n",
       "<p>1799 rows × 32 columns</p>\n",
       "</div>"
      ],
      "text/plain": [
       "        age      gender                                          ethnicity  \\\n",
       "0     25–34      Female  White (e.g., British, Irish, other European ba...   \n",
       "1     18–24        Male  White (e.g., British, Irish, other European ba...   \n",
       "2     35–44        Male  Asian or Asian British (e.g., Indian, Pakistan...   \n",
       "3     25–34  Non-binary  Mixed or multiple ethnic groups (e.g., White a...   \n",
       "4     45–54      Female  White (e.g., British, Irish, other European ba...   \n",
       "...     ...         ...                                                ...   \n",
       "1794  25–34      Female  White (e.g., British, Irish, other European ba...   \n",
       "1795  25–34      Female  White (e.g., British, Irish, other European ba...   \n",
       "1796  25–34      Female  Mixed or multiple ethnic groups (e.g., White a...   \n",
       "1797  25–34      Female  White (e.g., British, Irish, other European ba...   \n",
       "1798  25–34  Non-binary  Black, Black British, African, or Caribbean, M...   \n",
       "\n",
       "     disability_health_condition employment_status  \\\n",
       "0                            Yes          Employed   \n",
       "1                             No          Employed   \n",
       "2                             No          Employed   \n",
       "3                             No          Employed   \n",
       "4                             No          Employed   \n",
       "...                          ...               ...   \n",
       "1794                          No          Employed   \n",
       "1795                          No          Employed   \n",
       "1796                          No     Self employed   \n",
       "1797                          No          Employed   \n",
       "1798                          No          Employed   \n",
       "\n",
       "                 religious_belief           location  \\\n",
       "0                         Judaism     Central London   \n",
       "1                         Atheism  South East London   \n",
       "2                     Agnosticism  South East London   \n",
       "3                         Atheism        East London   \n",
       "4                         Judaism  North West London   \n",
       "...                           ...                ...   \n",
       "1794  Spiritual but not Religious        East London   \n",
       "1795                      Atheism  South West London   \n",
       "1796                  Agnosticism        West London   \n",
       "1797                      Atheism        East London   \n",
       "1798                      Atheism        East London   \n",
       "\n",
       "     Had you been to a sauna before you came to Community Sauna?  \\\n",
       "0                                         Once or twice            \n",
       "1                                         Once or twice            \n",
       "2                    I was already a regular sauna user            \n",
       "3                                         Once or twice            \n",
       "4                                         Once or twice            \n",
       "...                                                 ...            \n",
       "1794                                      Once or twice            \n",
       "1795                                      Once or twice            \n",
       "1796                 I was already a regular sauna user            \n",
       "1797                                      Once or twice            \n",
       "1798                                              Never            \n",
       "\n",
       "     How did you hear about the Community Sauna? visit_frequency  ...  \\\n",
       "0                                  Word of mouth         Monthly  ...   \n",
       "1                                  Word of mouth          Rarely  ...   \n",
       "2                                  Word of mouth          Weekly  ...   \n",
       "3                                  Word of mouth          Rarely  ...   \n",
       "4                                  Word of mouth         Monthly  ...   \n",
       "...                                          ...             ...  ...   \n",
       "1794                               Word of mouth          Rarely  ...   \n",
       "1795                             Friend took me           Rarely  ...   \n",
       "1796                               Word of mouth          Rarely  ...   \n",
       "1797                               Word of mouth          Weekly  ...   \n",
       "1798                                   Instagram         Monthly  ...   \n",
       "\n",
       "     How would you rate the overall ambiance and atmosphere of the sauna?\\r\\n\\r\\nOn a scale of 1 to 5, where 1 is low and 5 is high  \\\n",
       "0                                                   5.0                                                                               \n",
       "1                                                   5.0                                                                               \n",
       "2                                                   4.0                                                                               \n",
       "3                                                   4.0                                                                               \n",
       "4                                                   5.0                                                                               \n",
       "...                                                 ...                                                                               \n",
       "1794                                                5.0                                                                               \n",
       "1795                                                4.0                                                                               \n",
       "1796                                                5.0                                                                               \n",
       "1797                                                5.0                                                                               \n",
       "1798                                                5.0                                                                               \n",
       "\n",
       "     Are the sauna prices reasonable and in line with your expectations?\\r\\n\\r\\nOn a scale of 1 to 5, where 1 is low and 5 is high  \\\n",
       "0                                                   5.0                                                                              \n",
       "1                                                   5.0                                                                              \n",
       "2                                                   4.0                                                                              \n",
       "3                                                   4.0                                                                              \n",
       "4                                                   3.0                                                                              \n",
       "...                                                 ...                                                                              \n",
       "1794                                                5.0                                                                              \n",
       "1795                                                5.0                                                                              \n",
       "1796                                                5.0                                                                              \n",
       "1797                                                5.0                                                                              \n",
       "1798                                                5.0                                                                              \n",
       "\n",
       "     What improvements or additions would you like to see in the sauna facilities or services?  \\\n",
       "0                                                   NaN                                          \n",
       "1                                                   NaN                                          \n",
       "2                                                   NaN                                          \n",
       "3                                                   NaN                                          \n",
       "4                                                   NaN                                          \n",
       "...                                                 ...                                          \n",
       "1794                                                NaN                                          \n",
       "1795  There wasn’t a light in the changing room, pho...                                          \n",
       "1796  Offering some sort of salt scrub to pair well ...                                          \n",
       "1797                                                NaN                                          \n",
       "1798  More showers at Stratford site. Make sure all ...                                          \n",
       "\n",
       "      Do you know of any specific location where we could set up a community sauna? (e.g., a park, unused building, or local space)  \\\n",
       "0                                                   NaN                                                                               \n",
       "1                                                   NaN                                                                               \n",
       "2                                                   NaN                                                                               \n",
       "3                                                   NaN                                                                               \n",
       "4                                                   NaN                                                                               \n",
       "...                                                 ...                                                                               \n",
       "1794                                                NaN                                                                               \n",
       "1795  Unsure of a specific location but some (in/clo...                                                                               \n",
       "1796                                                NaN                                                                               \n",
       "1797                                                NaN                                                                               \n",
       "1798                                                NaN                                                                               \n",
       "\n",
       "     What improvements would you suggest for the facilities, services, or events?  \\\n",
       "0                                                   NaN                             \n",
       "1                                                   NaN                             \n",
       "2                                                   NaN                             \n",
       "3                                                   NaN                             \n",
       "4                                                   NaN                             \n",
       "...                                                 ...                             \n",
       "1794                                                NaN                             \n",
       "1795                            Changing room lighting                              \n",
       "1796                        More advertising for events                             \n",
       "1797                                                NaN                             \n",
       "1798                                                NaN                             \n",
       "\n",
       "     Are you familiar with our social prescribing offers and services?  \\\n",
       "0                                                   Yes                  \n",
       "1                                                   Yes                  \n",
       "2                                                    No                  \n",
       "3                                                   Yes                  \n",
       "4                                                    No                  \n",
       "...                                                 ...                  \n",
       "1794                                                 No                  \n",
       "1795                                                 No                  \n",
       "1796                                                 No                  \n",
       "1797                                                 No                  \n",
       "1798                                                 No                  \n",
       "\n",
       "     If yes, how did you hear about it?  \\\n",
       "0                          Social Media   \n",
       "1                          Social Media   \n",
       "2                                   NaN   \n",
       "3                          Social Media   \n",
       "4                                   NaN   \n",
       "...                                 ...   \n",
       "1794                                NaN   \n",
       "1795                                NaN   \n",
       "1796                                NaN   \n",
       "1797                       Social Media   \n",
       "1798                                NaN   \n",
       "\n",
       "                                      importance_reason  \\\n",
       "0                                                   NaN   \n",
       "1                                                   NaN   \n",
       "2                                                   NaN   \n",
       "3                                                   NaN   \n",
       "4                                                   NaN   \n",
       "...                                                 ...   \n",
       "1794  It is a great social activity to do as a group...   \n",
       "1795  I felt great after the session and would like ...   \n",
       "1796  It feels like you’re distancing yourself from ...   \n",
       "1797  Improved mental health, makes me feel strong a...   \n",
       "1798  It's relaxing, it gives you the opportunity to...   \n",
       "\n",
       "     In which area of London would you like us to set up a sauna?  \\\n",
       "0                                        Central London             \n",
       "1                                     South East London             \n",
       "2                                     North East London             \n",
       "3                                        Central London             \n",
       "4                                     North West London             \n",
       "...                                                 ...             \n",
       "1794                                  South East London             \n",
       "1795                                  South West London             \n",
       "1796                                  North West London             \n",
       "1797                                                NaN             \n",
       "1798                                                NaN             \n",
       "\n",
       "      What topics would you like to hear more about from us in our communications? (Select all that apply)  \n",
       "0            Sauna health benefits, Not-for-profit work                                                     \n",
       "1                                                   NaN                                                     \n",
       "2                    Behind the scenes, Upcoming events                                                     \n",
       "3     Sauna etiquette or best practices, Not-for-pro...                                                     \n",
       "4                Sauna health benefits, Upcoming events                                                     \n",
       "...                                                 ...                                                     \n",
       "1794                                                NaN                                                     \n",
       "1795  Sauna health benefits, Sauna etiquette or best...                                                     \n",
       "1796  Behind the scenes, Sauna etiquette or best pra...                                                     \n",
       "1797                  Sauna etiquette or best practices                                                     \n",
       "1798  Behind the scenes, Sauna etiquette or best pra...                                                     \n",
       "\n",
       "[1799 rows x 32 columns]"
      ]
     },
     "execution_count": 67,
     "metadata": {},
     "output_type": "execute_result"
    }
   ],
   "source": [
    "# renaming columns for quick reference\n",
    "rename_map = {\n",
    "    \"\"\"What is your age group?\"\"\": \"age\",\n",
    "    \"\"\"What gender do you identify with?\"\"\": \"gender\",\n",
    "    \"\"\"How would you describe your ethnicity?\"\"\": \"ethnicity\",\n",
    "    \"\"\"Do you consider yourself to have a disability or long term health condition?\"\"\": \"disability_health_condition\",\n",
    "    \"\"\"Please indicate the following about your employment status:\"\"\": \"employment_status\",\n",
    "    \"\"\"What is your religious belief?\"\"\": \"religious_belief\",\n",
    "    \"\"\"How would you describe your sexual orientation?\"\"\": \"sexual_orientation\",\n",
    "    \"\"\"Where do you currently live?\"\"\": \"location\",\n",
    "    \"\"\"Had you been to a sauna before visiting our community sauna?\"\"\": \"previous_sauna_experience\",\n",
    "    \"\"\"How did you first hear about our community sauna?\"\"\": \"sauna_discovery_channel\",\n",
    "    \"\"\"How often do you visit our sauna?\"\"\": \"visit_frequency\",\n",
    "    \"\"\"Which of our sauna locations do you visit most often?\"\"\": \"location_frequency\",\n",
    "    \"\"\"Have you experienced any physical health improvements from using the sauna?\"\"\": \"physical_health_improvements\",\n",
    "    \"\"\"Have you experienced any mental health improvements from using the sauna?\"\"\": \"mental_health_improvements\",\n",
    "    \"\"\"How important is having regular access to sauna? (On a scale of 1 to 5, where 1 is low and 5 is high)\"\"\": \"sauna_access_importance\",\n",
    "    \"\"\"What do you enjoy most about the community sauna?\"\"\": \"enjoyment_reasons\",\n",
    "    \"\"\"Do you feel a sense of belonging or community when using the sauna? On a scale of 1 to 5, where 1 is low and 5 is high\"\"\": \"belonging_rating\",\n",
    "    \"\"\"Please share why community sauna is important to you?\"\"\": \"importance_reason\",\n",
    "}\n",
    "\n",
    "\n",
    "\n",
    "df = df.rename(columns=rename_map)\n",
    "\n",
    "df"
   ]
  },
  {
   "cell_type": "code",
   "execution_count": 68,
   "id": "9bb0f7ea",
   "metadata": {},
   "outputs": [
    {
     "data": {
      "application/vnd.microsoft.datawrangler.viewer.v0+json": {
       "columns": [
        {
         "name": "employment_status",
         "rawType": "object",
         "type": "string"
        },
        {
         "name": "count",
         "rawType": "int64",
         "type": "integer"
        }
       ],
       "ref": "9cc4fdde-6871-41ed-b25a-55b0bb001f5b",
       "rows": [
        [
         "Employed",
         "1217"
        ],
        [
         "Self employed",
         "329"
        ],
        [
         "Student",
         "80"
        ],
        [
         "Unemployed",
         "78"
        ],
        [
         "Business owner",
         "51"
        ],
        [
         "Retired",
         "12"
        ],
        [
         "Maternity leave",
         "2"
        ],
        [
         "full time carer",
         "1"
        ],
        [
         "Freelancer",
         "1"
        ],
        [
         "Multiple of the above ",
         "1"
        ],
        [
         "Moving into employment (next week!)",
         "1"
        ],
        [
         "Tattooing, serving, teaching—my week is organized chaos! ",
         "1"
        ],
        [
         "طالب لجوء",
         "1"
        ],
        [
         "Part time employed",
         "1"
        ],
        [
         "employed and also self employed",
         "1"
        ],
        [
         "Freelance",
         "1"
        ],
        [
         "Student and part-time work",
         "1"
        ],
        [
         "And employed",
         "1"
        ],
        [
         "freelance",
         "1"
        ],
        [
         "Btw I do not ‘prefer not to say’ for the sexuality question previously - but you dud not offer an other option, only very binary or broad options. Please include an ‘other’ option next time to allow people to state their sexuality :)",
         "1"
        ],
        [
         "Employed and self-employed",
         "1"
        ],
        [
         "Athlete ",
         "1"
        ],
        [
         "Mother at home",
         "1"
        ],
        [
         "Candidate for ordained ministry ",
         "1"
        ],
        [
         "employed on reduced hours & receiving benefits  ",
         "1"
        ],
        [
         "Studying and self employed",
         "1"
        ],
        [
         "Long term sick for 4 years",
         "1"
        ],
        [
         "Part time employee ",
         "1"
        ],
        [
         "In training ",
         "1"
        ],
        [
         "Employed and student ",
         "1"
        ],
        [
         "Homemaker ",
         "1"
        ],
        [
         "student and employed as well on a casual basis",
         "1"
        ],
        [
         "Both employed and self-employed",
         "1"
        ],
        [
         "Maternity leave ",
         "1"
        ]
       ],
       "shape": {
        "columns": 1,
        "rows": 34
       }
      },
      "text/plain": [
       "employment_status\n",
       "Employed                                                                                                                                                                                                                                     1217\n",
       "Self employed                                                                                                                                                                                                                                 329\n",
       "Student                                                                                                                                                                                                                                        80\n",
       "Unemployed                                                                                                                                                                                                                                     78\n",
       "Business owner                                                                                                                                                                                                                                 51\n",
       "Retired                                                                                                                                                                                                                                        12\n",
       "Maternity leave                                                                                                                                                                                                                                 2\n",
       "full time carer                                                                                                                                                                                                                                 1\n",
       "Freelancer                                                                                                                                                                                                                                      1\n",
       "Multiple of the above                                                                                                                                                                                                                           1\n",
       "Moving into employment (next week!)                                                                                                                                                                                                             1\n",
       "Tattooing, serving, teaching—my week is organized chaos!                                                                                                                                                                                        1\n",
       "طالب لجوء                                                                                                                                                                                                                                       1\n",
       "Part time employed                                                                                                                                                                                                                              1\n",
       "employed and also self employed                                                                                                                                                                                                                 1\n",
       "Freelance                                                                                                                                                                                                                                       1\n",
       "Student and part-time work                                                                                                                                                                                                                      1\n",
       "And employed                                                                                                                                                                                                                                    1\n",
       "freelance                                                                                                                                                                                                                                       1\n",
       "Btw I do not ‘prefer not to say’ for the sexuality question previously - but you dud not offer an other option, only very binary or broad options. Please include an ‘other’ option next time to allow people to state their sexuality :)       1\n",
       "Employed and self-employed                                                                                                                                                                                                                      1\n",
       "Athlete                                                                                                                                                                                                                                         1\n",
       "Mother at home                                                                                                                                                                                                                                  1\n",
       "Candidate for ordained ministry                                                                                                                                                                                                                 1\n",
       "employed on reduced hours & receiving benefits                                                                                                                                                                                                  1\n",
       "Studying and self employed                                                                                                                                                                                                                      1\n",
       "Long term sick for 4 years                                                                                                                                                                                                                      1\n",
       "Part time employee                                                                                                                                                                                                                              1\n",
       "In training                                                                                                                                                                                                                                     1\n",
       "Employed and student                                                                                                                                                                                                                            1\n",
       "Homemaker                                                                                                                                                                                                                                       1\n",
       "student and employed as well on a casual basis                                                                                                                                                                                                  1\n",
       "Both employed and self-employed                                                                                                                                                                                                                 1\n",
       "Maternity leave                                                                                                                                                                                                                                 1\n",
       "Name: count, dtype: int64"
      ]
     },
     "execution_count": 68,
     "metadata": {},
     "output_type": "execute_result"
    }
   ],
   "source": [
    "# Looking for free text responses in categorical columns that will need to be cleaned before analysis\n",
    "\n",
    "df['employment_status'].value_counts()"
   ]
  },
  {
   "cell_type": "code",
   "execution_count": 90,
   "id": "e4388114",
   "metadata": {},
   "outputs": [
    {
     "data": {
      "application/vnd.microsoft.datawrangler.viewer.v0+json": {
       "columns": [
        {
         "name": "index",
         "rawType": "int64",
         "type": "integer"
        },
        {
         "name": "age",
         "rawType": "object",
         "type": "string"
        },
        {
         "name": "gender",
         "rawType": "object",
         "type": "string"
        },
        {
         "name": "ethnicity",
         "rawType": "object",
         "type": "string"
        },
        {
         "name": "disability_health_condition",
         "rawType": "object",
         "type": "string"
        },
        {
         "name": "employment_status",
         "rawType": "object",
         "type": "string"
        },
        {
         "name": "religious_belief",
         "rawType": "object",
         "type": "string"
        },
        {
         "name": "location",
         "rawType": "object",
         "type": "string"
        },
        {
         "name": "Had you been to a sauna before you came to Community Sauna?",
         "rawType": "object",
         "type": "string"
        },
        {
         "name": "How did you hear about the Community Sauna?",
         "rawType": "object",
         "type": "string"
        },
        {
         "name": "visit_frequency",
         "rawType": "object",
         "type": "string"
        },
        {
         "name": "location_frequency",
         "rawType": "object",
         "type": "string"
        },
        {
         "name": "physical_health_improvements",
         "rawType": "object",
         "type": "string"
        },
        {
         "name": "mental_health_improvements",
         "rawType": "object",
         "type": "string"
        },
        {
         "name": "How important is having regular access to sauna?\r\n\r\nOn a scale of 1 to 5, where 1 is low and 5 is high",
         "rawType": "float64",
         "type": "float"
        },
        {
         "name": "enjoyment_reasons",
         "rawType": "object",
         "type": "string"
        },
        {
         "name": "Are you satisfied with the temperature at our saunas?",
         "rawType": "object",
         "type": "string"
        },
        {
         "name": "If you’re not satisfied, could you please explain why",
         "rawType": "object",
         "type": "unknown"
        },
        {
         "name": "Are you satisfied with the amount of customers during the sessions?",
         "rawType": "object",
         "type": "string"
        },
        {
         "name": "If you’re not satisfied, could you please explain why2",
         "rawType": "object",
         "type": "unknown"
        },
        {
         "name": "Do you feel a sense of belonging or community when using the sauna?",
         "rawType": "float64",
         "type": "float"
        },
        {
         "name": "How would you rate  the overall cleanliness and hygiene of the sauna facilities?\r\n\r\nOn a scale of 1 to 5, where 1 is low and 5 is high",
         "rawType": "float64",
         "type": "float"
        },
        {
         "name": "How would you rate the staff’s friendliness and professionalism? \r\n\r\nOn a scale of 1 to 5, where 1 is low and 5 is high",
         "rawType": "float64",
         "type": "float"
        },
        {
         "name": "How would you rate the overall ambiance and atmosphere of the sauna?\r\n\r\nOn a scale of 1 to 5, where 1 is low and 5 is high",
         "rawType": "float64",
         "type": "float"
        },
        {
         "name": "Are the sauna prices reasonable and in line with your expectations?\r\n\r\nOn a scale of 1 to 5, where 1 is low and 5 is high",
         "rawType": "float64",
         "type": "float"
        },
        {
         "name": "What improvements or additions would you like to see in the sauna facilities or services?",
         "rawType": "object",
         "type": "unknown"
        },
        {
         "name": "Do you know of any specific location where we could set up a community sauna? (e.g., a park, unused building, or local space)",
         "rawType": "object",
         "type": "unknown"
        },
        {
         "name": "What improvements would you suggest for the facilities, services, or events?",
         "rawType": "object",
         "type": "unknown"
        },
        {
         "name": "Are you familiar with our social prescribing offers and services?",
         "rawType": "object",
         "type": "string"
        },
        {
         "name": "If yes, how did you hear about it?",
         "rawType": "object",
         "type": "unknown"
        },
        {
         "name": "importance_reason",
         "rawType": "object",
         "type": "unknown"
        },
        {
         "name": "In which area of London would you like us to set up a sauna?",
         "rawType": "object",
         "type": "string"
        },
        {
         "name": "What topics would you like to hear more about from us in our communications? (Select all that apply)",
         "rawType": "object",
         "type": "unknown"
        },
        {
         "name": "employment_category",
         "rawType": "object",
         "type": "string"
        }
       ],
       "ref": "931b77d3-76a5-402e-82a8-ceea866a42e6",
       "rows": [
        [
         "0",
         "25–34",
         "Female",
         "White (e.g., British, Irish, other European background)",
         "Yes",
         "Employed",
         "Judaism",
         "Central London",
         "Once or twice",
         "Word of mouth",
         "Monthly",
         "Stratford",
         "Yes",
         "Yes",
         "3.0",
         "Helped with physical pain management, Improved mood, Helped me connect with the outdoors",
         "Yes",
         null,
         "No",
         "a bit too busy sometimes ",
         "3.0",
         "5.0",
         "5.0",
         "5.0",
         "5.0",
         null,
         null,
         null,
         "Yes",
         "Social Media",
         null,
         "Central London",
         "Sauna health benefits, Not-for-profit work",
         "Employed"
        ],
        [
         "1",
         "18–24",
         "Male",
         "White (e.g., British, Irish, other European background)",
         "No",
         "Employed",
         "Atheism",
         "South East London",
         "Once or twice",
         "Word of mouth",
         "Rarely",
         "Peckham",
         "Not sure",
         "Not sure",
         "3.0",
         "Improved mood, Improved sense of belonging to the local community., Helped me connect with the outdoors",
         "Yes",
         null,
         "Yes",
         null,
         "4.0",
         "4.0",
         "5.0",
         "5.0",
         "5.0",
         null,
         null,
         null,
         "Yes",
         "Social Media",
         null,
         "South East London",
         null,
         "Employed"
        ],
        [
         "2",
         "35–44",
         "Male",
         "Asian or Asian British (e.g., Indian, Pakistani, Bangladeshi, Chinese)",
         "No",
         "Employed",
         "Agnosticism",
         "South East London",
         "I was already a regular sauna user",
         "Word of mouth",
         "Weekly",
         "Bermondsey",
         "Not sure",
         "Not sure",
         "4.0",
         "Helped with physical pain management, Improved mood, Assists me with my mental health resilience",
         "Sometimes",
         "It can varies a lot session to session",
         "Yes",
         null,
         "4.0",
         "4.0",
         "5.0",
         "4.0",
         "4.0",
         null,
         null,
         null,
         "No",
         null,
         null,
         "North East London",
         "Behind the scenes, Upcoming events",
         "Employed"
        ],
        [
         "3",
         "25–34",
         "Non-binary",
         "Mixed or multiple ethnic groups (e.g., White and Black Caribbean, White and Asian)",
         "No",
         "Employed",
         "Atheism",
         "East London",
         "Once or twice",
         "Word of mouth",
         "Rarely",
         "Hackney Wick",
         "Yes",
         "Yes",
         "4.0",
         "Improved mood, Assists me with my mental health resilience, Increased my body confidence",
         "Yes",
         null,
         "Yes",
         null,
         "3.0",
         "4.0",
         "4.0",
         "4.0",
         "4.0",
         null,
         null,
         null,
         "Yes",
         "Social Media",
         null,
         "Central London",
         "Sauna etiquette or best practices, Not-for-profit work",
         "Employed"
        ],
        [
         "4",
         "45–54",
         "Female",
         "White (e.g., British, Irish, other European background)",
         "No",
         "Employed",
         "Judaism",
         "North West London",
         "Once or twice",
         "Word of mouth",
         "Monthly",
         "Hackney Wick",
         "Yes",
         "Yes",
         "3.0",
         "Improved mood, Improved sense of belonging to the local community., Improved my health, Helped me connect with the outdoors, I made new friends at the sauna",
         "Yes",
         null,
         "Yes",
         null,
         "5.0",
         "4.0",
         "5.0",
         "5.0",
         "3.0",
         null,
         null,
         null,
         "No",
         null,
         null,
         "North West London",
         "Sauna health benefits, Upcoming events",
         "Employed"
        ]
       ],
       "shape": {
        "columns": 33,
        "rows": 5
       }
      },
      "text/html": [
       "<div>\n",
       "<style scoped>\n",
       "    .dataframe tbody tr th:only-of-type {\n",
       "        vertical-align: middle;\n",
       "    }\n",
       "\n",
       "    .dataframe tbody tr th {\n",
       "        vertical-align: top;\n",
       "    }\n",
       "\n",
       "    .dataframe thead th {\n",
       "        text-align: right;\n",
       "    }\n",
       "</style>\n",
       "<table border=\"1\" class=\"dataframe\">\n",
       "  <thead>\n",
       "    <tr style=\"text-align: right;\">\n",
       "      <th></th>\n",
       "      <th>age</th>\n",
       "      <th>gender</th>\n",
       "      <th>ethnicity</th>\n",
       "      <th>disability_health_condition</th>\n",
       "      <th>employment_status</th>\n",
       "      <th>religious_belief</th>\n",
       "      <th>location</th>\n",
       "      <th>Had you been to a sauna before you came to Community Sauna?</th>\n",
       "      <th>How did you hear about the Community Sauna?</th>\n",
       "      <th>visit_frequency</th>\n",
       "      <th>...</th>\n",
       "      <th>Are the sauna prices reasonable and in line with your expectations?\\r\\n\\r\\nOn a scale of 1 to 5, where 1 is low and 5 is high</th>\n",
       "      <th>What improvements or additions would you like to see in the sauna facilities or services?</th>\n",
       "      <th>Do you know of any specific location where we could set up a community sauna? (e.g., a park, unused building, or local space)</th>\n",
       "      <th>What improvements would you suggest for the facilities, services, or events?</th>\n",
       "      <th>Are you familiar with our social prescribing offers and services?</th>\n",
       "      <th>If yes, how did you hear about it?</th>\n",
       "      <th>importance_reason</th>\n",
       "      <th>In which area of London would you like us to set up a sauna?</th>\n",
       "      <th>What topics would you like to hear more about from us in our communications? (Select all that apply)</th>\n",
       "      <th>employment_category</th>\n",
       "    </tr>\n",
       "  </thead>\n",
       "  <tbody>\n",
       "    <tr>\n",
       "      <th>0</th>\n",
       "      <td>25–34</td>\n",
       "      <td>Female</td>\n",
       "      <td>White (e.g., British, Irish, other European ba...</td>\n",
       "      <td>Yes</td>\n",
       "      <td>Employed</td>\n",
       "      <td>Judaism</td>\n",
       "      <td>Central London</td>\n",
       "      <td>Once or twice</td>\n",
       "      <td>Word of mouth</td>\n",
       "      <td>Monthly</td>\n",
       "      <td>...</td>\n",
       "      <td>5.0</td>\n",
       "      <td>NaN</td>\n",
       "      <td>NaN</td>\n",
       "      <td>NaN</td>\n",
       "      <td>Yes</td>\n",
       "      <td>Social Media</td>\n",
       "      <td>NaN</td>\n",
       "      <td>Central London</td>\n",
       "      <td>Sauna health benefits, Not-for-profit work</td>\n",
       "      <td>Employed</td>\n",
       "    </tr>\n",
       "    <tr>\n",
       "      <th>1</th>\n",
       "      <td>18–24</td>\n",
       "      <td>Male</td>\n",
       "      <td>White (e.g., British, Irish, other European ba...</td>\n",
       "      <td>No</td>\n",
       "      <td>Employed</td>\n",
       "      <td>Atheism</td>\n",
       "      <td>South East London</td>\n",
       "      <td>Once or twice</td>\n",
       "      <td>Word of mouth</td>\n",
       "      <td>Rarely</td>\n",
       "      <td>...</td>\n",
       "      <td>5.0</td>\n",
       "      <td>NaN</td>\n",
       "      <td>NaN</td>\n",
       "      <td>NaN</td>\n",
       "      <td>Yes</td>\n",
       "      <td>Social Media</td>\n",
       "      <td>NaN</td>\n",
       "      <td>South East London</td>\n",
       "      <td>NaN</td>\n",
       "      <td>Employed</td>\n",
       "    </tr>\n",
       "    <tr>\n",
       "      <th>2</th>\n",
       "      <td>35–44</td>\n",
       "      <td>Male</td>\n",
       "      <td>Asian or Asian British (e.g., Indian, Pakistan...</td>\n",
       "      <td>No</td>\n",
       "      <td>Employed</td>\n",
       "      <td>Agnosticism</td>\n",
       "      <td>South East London</td>\n",
       "      <td>I was already a regular sauna user</td>\n",
       "      <td>Word of mouth</td>\n",
       "      <td>Weekly</td>\n",
       "      <td>...</td>\n",
       "      <td>4.0</td>\n",
       "      <td>NaN</td>\n",
       "      <td>NaN</td>\n",
       "      <td>NaN</td>\n",
       "      <td>No</td>\n",
       "      <td>NaN</td>\n",
       "      <td>NaN</td>\n",
       "      <td>North East London</td>\n",
       "      <td>Behind the scenes, Upcoming events</td>\n",
       "      <td>Employed</td>\n",
       "    </tr>\n",
       "    <tr>\n",
       "      <th>3</th>\n",
       "      <td>25–34</td>\n",
       "      <td>Non-binary</td>\n",
       "      <td>Mixed or multiple ethnic groups (e.g., White a...</td>\n",
       "      <td>No</td>\n",
       "      <td>Employed</td>\n",
       "      <td>Atheism</td>\n",
       "      <td>East London</td>\n",
       "      <td>Once or twice</td>\n",
       "      <td>Word of mouth</td>\n",
       "      <td>Rarely</td>\n",
       "      <td>...</td>\n",
       "      <td>4.0</td>\n",
       "      <td>NaN</td>\n",
       "      <td>NaN</td>\n",
       "      <td>NaN</td>\n",
       "      <td>Yes</td>\n",
       "      <td>Social Media</td>\n",
       "      <td>NaN</td>\n",
       "      <td>Central London</td>\n",
       "      <td>Sauna etiquette or best practices, Not-for-pro...</td>\n",
       "      <td>Employed</td>\n",
       "    </tr>\n",
       "    <tr>\n",
       "      <th>4</th>\n",
       "      <td>45–54</td>\n",
       "      <td>Female</td>\n",
       "      <td>White (e.g., British, Irish, other European ba...</td>\n",
       "      <td>No</td>\n",
       "      <td>Employed</td>\n",
       "      <td>Judaism</td>\n",
       "      <td>North West London</td>\n",
       "      <td>Once or twice</td>\n",
       "      <td>Word of mouth</td>\n",
       "      <td>Monthly</td>\n",
       "      <td>...</td>\n",
       "      <td>3.0</td>\n",
       "      <td>NaN</td>\n",
       "      <td>NaN</td>\n",
       "      <td>NaN</td>\n",
       "      <td>No</td>\n",
       "      <td>NaN</td>\n",
       "      <td>NaN</td>\n",
       "      <td>North West London</td>\n",
       "      <td>Sauna health benefits, Upcoming events</td>\n",
       "      <td>Employed</td>\n",
       "    </tr>\n",
       "  </tbody>\n",
       "</table>\n",
       "<p>5 rows × 33 columns</p>\n",
       "</div>"
      ],
      "text/plain": [
       "     age      gender                                          ethnicity  \\\n",
       "0  25–34      Female  White (e.g., British, Irish, other European ba...   \n",
       "1  18–24        Male  White (e.g., British, Irish, other European ba...   \n",
       "2  35–44        Male  Asian or Asian British (e.g., Indian, Pakistan...   \n",
       "3  25–34  Non-binary  Mixed or multiple ethnic groups (e.g., White a...   \n",
       "4  45–54      Female  White (e.g., British, Irish, other European ba...   \n",
       "\n",
       "  disability_health_condition employment_status religious_belief  \\\n",
       "0                         Yes          Employed          Judaism   \n",
       "1                          No          Employed          Atheism   \n",
       "2                          No          Employed      Agnosticism   \n",
       "3                          No          Employed          Atheism   \n",
       "4                          No          Employed          Judaism   \n",
       "\n",
       "            location  \\\n",
       "0     Central London   \n",
       "1  South East London   \n",
       "2  South East London   \n",
       "3        East London   \n",
       "4  North West London   \n",
       "\n",
       "  Had you been to a sauna before you came to Community Sauna?  \\\n",
       "0                                      Once or twice            \n",
       "1                                      Once or twice            \n",
       "2                 I was already a regular sauna user            \n",
       "3                                      Once or twice            \n",
       "4                                      Once or twice            \n",
       "\n",
       "  How did you hear about the Community Sauna? visit_frequency  ...  \\\n",
       "0                               Word of mouth         Monthly  ...   \n",
       "1                               Word of mouth          Rarely  ...   \n",
       "2                               Word of mouth          Weekly  ...   \n",
       "3                               Word of mouth          Rarely  ...   \n",
       "4                               Word of mouth         Monthly  ...   \n",
       "\n",
       "  Are the sauna prices reasonable and in line with your expectations?\\r\\n\\r\\nOn a scale of 1 to 5, where 1 is low and 5 is high  \\\n",
       "0                                                5.0                                                                              \n",
       "1                                                5.0                                                                              \n",
       "2                                                4.0                                                                              \n",
       "3                                                4.0                                                                              \n",
       "4                                                3.0                                                                              \n",
       "\n",
       "  What improvements or additions would you like to see in the sauna facilities or services?  \\\n",
       "0                                                NaN                                          \n",
       "1                                                NaN                                          \n",
       "2                                                NaN                                          \n",
       "3                                                NaN                                          \n",
       "4                                                NaN                                          \n",
       "\n",
       "  Do you know of any specific location where we could set up a community sauna? (e.g., a park, unused building, or local space)  \\\n",
       "0                                                NaN                                                                              \n",
       "1                                                NaN                                                                              \n",
       "2                                                NaN                                                                              \n",
       "3                                                NaN                                                                              \n",
       "4                                                NaN                                                                              \n",
       "\n",
       "   What improvements would you suggest for the facilities, services, or events?  \\\n",
       "0                                                NaN                              \n",
       "1                                                NaN                              \n",
       "2                                                NaN                              \n",
       "3                                                NaN                              \n",
       "4                                                NaN                              \n",
       "\n",
       "  Are you familiar with our social prescribing offers and services?  \\\n",
       "0                                                Yes                  \n",
       "1                                                Yes                  \n",
       "2                                                 No                  \n",
       "3                                                Yes                  \n",
       "4                                                 No                  \n",
       "\n",
       "  If yes, how did you hear about it? importance_reason  \\\n",
       "0                       Social Media               NaN   \n",
       "1                       Social Media               NaN   \n",
       "2                                NaN               NaN   \n",
       "3                       Social Media               NaN   \n",
       "4                                NaN               NaN   \n",
       "\n",
       "  In which area of London would you like us to set up a sauna?  \\\n",
       "0                                     Central London             \n",
       "1                                  South East London             \n",
       "2                                  North East London             \n",
       "3                                     Central London             \n",
       "4                                  North West London             \n",
       "\n",
       "  What topics would you like to hear more about from us in our communications? (Select all that apply)  \\\n",
       "0         Sauna health benefits, Not-for-profit work                                                     \n",
       "1                                                NaN                                                     \n",
       "2                 Behind the scenes, Upcoming events                                                     \n",
       "3  Sauna etiquette or best practices, Not-for-pro...                                                     \n",
       "4             Sauna health benefits, Upcoming events                                                     \n",
       "\n",
       "   employment_category  \n",
       "0             Employed  \n",
       "1             Employed  \n",
       "2             Employed  \n",
       "3             Employed  \n",
       "4             Employed  \n",
       "\n",
       "[5 rows x 33 columns]"
      ]
     },
     "execution_count": 90,
     "metadata": {},
     "output_type": "execute_result"
    }
   ],
   "source": [
    "# Cleaning up free-text responses in the employment_status column\n",
    "rename_employment = {\n",
    "    \"Both employed and self-employed\": \"Employed\",\n",
    "    \"Student and employed as well on a casual basis\": \"Student\",\n",
    "    \"Homemaker\": \"Homemaker\",\n",
    "    \"Employed and student\": \"Student\",\n",
    "    \"In training\": \"Student\",\n",
    "    \"Part time employee\": \"Employed\",\n",
    "    \"Long term sick for 4 years\": \"Sick Leave\",\n",
    "    \"Studying and self employed\": \"Student\",\n",
    "    \"Employed on reduced hours & receiving benefits\": \"Employed\",\n",
    "    \"Candidate for ordained ministry\": \"Other\",\n",
    "    \"Mother at home\": \"Homemaker\",\n",
    "    \"Btw I do not ‘prefer not to say’ for the sexuality question previously - but you dud not offer an other option, only very binary or broad options. Please include an ‘other’ option next time to allow people to state their sexuality :)\": \"Other\",\n",
    "    \"Athlete\": \"Other\",\n",
    "    \"Employed and self-employed\": \"Employed\",\n",
    "    \"Multiple of the above\": \"Other\",\n",
    "    \"Maternity leave\": \"Maternity Leave\",\n",
    "    \"Student and part-time work\": \"Student\",\n",
    "    \"Freelance\": \"Freelancer\",\n",
    "    \"employed and also self employed\": \"Employed\",\n",
    "    \"Part time employed\": \"Employed\",\n",
    "    \"طالب لجوء\": \"Other\",\n",
    "    \"Tattooing, serving, teaching—my week is organized chaos!\": \"Employed\",\n",
    "    \"Moving into employment (next week!)\": \"Unemployed\",\n",
    "    \"freelance\": \"Freelancer\",\n",
    "    \"full time carer\": \"Carer\",\n",
    "    \"Freelancer\": \"Freelancer\",\n",
    "    \"And employed\": \"Employed\"\n",
    "}\n",
    "# Replacing the free-text responses with rename_employment mapped values\n",
    "df['employment_status'] = df['employment_status'].replace(rename_employment) \n",
    "# Checking the cleaned employment_status column\n",
    "df['employment_status'].value_counts()\n",
    "# Displaying the first 5 rows of the cleaned DataFrame\n",
    "\n",
    "df.head(5)\n",
    "\n"
   ]
  },
  {
   "cell_type": "code",
   "execution_count": 91,
   "id": "c6648ec6",
   "metadata": {},
   "outputs": [
    {
     "data": {
      "application/vnd.microsoft.datawrangler.viewer.v0+json": {
       "columns": [
        {
         "name": "employment_status",
         "rawType": "object",
         "type": "string"
        },
        {
         "name": "count",
         "rawType": "int64",
         "type": "integer"
        }
       ],
       "ref": "629fdd1f-00df-4f12-b80f-1174cc36ccea",
       "rows": [
        [
         "Employed",
         "1222"
        ],
        [
         "Self employed",
         "329"
        ],
        [
         "Student",
         "82"
        ],
        [
         "Unemployed",
         "79"
        ],
        [
         "Business owner",
         "51"
        ],
        [
         "Retired",
         "12"
        ],
        [
         "Freelancer",
         "3"
        ],
        [
         "Maternity Leave",
         "2"
        ],
        [
         "Other",
         "2"
        ],
        [
         "Homemaker",
         "1"
        ],
        [
         "Carer",
         "1"
        ],
        [
         "Tattooing, serving, teaching—my week is organized chaos! ",
         "1"
        ],
        [
         "Multiple of the above ",
         "1"
        ],
        [
         "Athlete ",
         "1"
        ],
        [
         "Sick Leave",
         "1"
        ],
        [
         "Candidate for ordained ministry ",
         "1"
        ],
        [
         "employed on reduced hours & receiving benefits  ",
         "1"
        ],
        [
         "Part time employee ",
         "1"
        ],
        [
         "In training ",
         "1"
        ],
        [
         "Employed and student ",
         "1"
        ],
        [
         "Homemaker ",
         "1"
        ],
        [
         "student and employed as well on a casual basis",
         "1"
        ],
        [
         "Maternity leave ",
         "1"
        ]
       ],
       "shape": {
        "columns": 1,
        "rows": 23
       }
      },
      "text/plain": [
       "employment_status\n",
       "Employed                                                     1222\n",
       "Self employed                                                 329\n",
       "Student                                                        82\n",
       "Unemployed                                                     79\n",
       "Business owner                                                 51\n",
       "Retired                                                        12\n",
       "Freelancer                                                      3\n",
       "Maternity Leave                                                 2\n",
       "Other                                                           2\n",
       "Homemaker                                                       1\n",
       "Carer                                                           1\n",
       "Tattooing, serving, teaching—my week is organized chaos!        1\n",
       "Multiple of the above                                           1\n",
       "Athlete                                                         1\n",
       "Sick Leave                                                      1\n",
       "Candidate for ordained ministry                                 1\n",
       "employed on reduced hours & receiving benefits                  1\n",
       "Part time employee                                              1\n",
       "In training                                                     1\n",
       "Employed and student                                            1\n",
       "Homemaker                                                       1\n",
       "student and employed as well on a casual basis                  1\n",
       "Maternity leave                                                 1\n",
       "Name: count, dtype: int64"
      ]
     },
     "execution_count": 91,
     "metadata": {},
     "output_type": "execute_result"
    }
   ],
   "source": [
    "df['employment_status'].value_counts()"
   ]
  },
  {
   "cell_type": "code",
   "execution_count": null,
   "id": "fd150fb9",
   "metadata": {},
   "outputs": [
    {
     "data": {
      "application/vnd.microsoft.datawrangler.viewer.v0+json": {
       "columns": [
        {
         "name": "gender",
         "rawType": "object",
         "type": "string"
        },
        {
         "name": "count",
         "rawType": "int64",
         "type": "integer"
        }
       ],
       "ref": "9fd07b93-cef8-4db4-8355-54ddae32a2c0",
       "rows": [
        [
         "Female",
         "1165"
        ],
        [
         "Male",
         "561"
        ],
        [
         "Non-binary",
         "53"
        ],
        [
         "Female, Non-binary",
         "5"
        ],
        [
         "Male, Non-binary",
         "3"
        ],
        [
         "prefer not to say",
         "1"
        ],
        [
         "Male, Non-binary, ",
         "1"
        ],
        [
         "Male, -if pushed",
         "1"
        ],
        [
         "Trans man",
         "1"
        ],
        [
         "Gender spicy x",
         "1"
        ],
        [
         "Transmasc, Trans",
         "1"
        ]
       ],
       "shape": {
        "columns": 1,
        "rows": 11
       }
      },
      "text/plain": [
       "gender\n",
       "Female                1165\n",
       "Male                   561\n",
       "Non-binary              53\n",
       "Female, Non-binary       5\n",
       "Male, Non-binary         3\n",
       "prefer not to say        1\n",
       "Male, Non-binary,        1\n",
       "Male, -if pushed         1\n",
       "Trans man                1\n",
       "Gender spicy x           1\n",
       "Transmasc, Trans         1\n",
       "Name: count, dtype: int64"
      ]
     },
     "execution_count": 100,
     "metadata": {},
     "output_type": "execute_result"
    }
   ],
   "source": [
    "# Exploring the free text responses in the gender column\n",
    "df['gender'].value_counts()"
   ]
  },
  {
   "cell_type": "code",
   "execution_count": 163,
   "id": "7fa4685e",
   "metadata": {},
   "outputs": [
    {
     "data": {
      "application/vnd.microsoft.datawrangler.viewer.v0+json": {
       "columns": [
        {
         "name": "gender",
         "rawType": "object",
         "type": "string"
        },
        {
         "name": "count",
         "rawType": "int64",
         "type": "integer"
        }
       ],
       "ref": "5c9c1cc5-f583-4e61-9e45-755f02495bbd",
       "rows": [
        [
         "Female",
         "1165"
        ],
        [
         "Male",
         "561"
        ],
        [
         "Non-binary",
         "62"
        ],
        [
         "Prefer not to say",
         "2"
        ],
        [
         "Transgender man",
         "2"
        ],
        [
         "Other",
         "1"
        ]
       ],
       "shape": {
        "columns": 1,
        "rows": 6
       }
      },
      "text/plain": [
       "gender\n",
       "Female               1165\n",
       "Male                  561\n",
       "Non-binary             62\n",
       "Prefer not to say       2\n",
       "Transgender man         2\n",
       "Other                   1\n",
       "Name: count, dtype: int64"
      ]
     },
     "execution_count": 163,
     "metadata": {},
     "output_type": "execute_result"
    }
   ],
   "source": [
    "# Defining gender renaming dictionary\n",
    "rename_gender = {\n",
    "    \"Male\": \"Male\",\n",
    "    \"Female\": \"Female\",\n",
    "    \"Non-binary\": \"Non-binary\",\n",
    "    \"prefer not to say\": \"Prefer not to say\",\n",
    "    \"Male, Non-binary\": \"Non-binary\",\n",
    "    \"Male, Non-binary, \": \"Non-binary\",\n",
    "    \"Female, Non-binary\": \"Non-binary\",\n",
    "    \"Male, -if pushed\": \"Prefer not to say\",\n",
    "    \"Trans man\": \"Transgender man\",\n",
    "    \"Transmasc, Trans\": \"Transgender man\",\n",
    "    \"Gender spicy x\": \"Other\",\n",
    "}\n",
    "\n",
    "# Replacing the free-text responses\n",
    "df['gender'] = df['gender'].replace(rename_gender)\n",
    "# Checking the cleaned gender column\n",
    "df['gender'].value_counts()\n"
   ]
  },
  {
   "cell_type": "code",
   "execution_count": 101,
   "id": "570e639d",
   "metadata": {},
   "outputs": [
    {
     "data": {
      "application/vnd.microsoft.datawrangler.viewer.v0+json": {
       "columns": [
        {
         "name": "ethnicity",
         "rawType": "object",
         "type": "string"
        },
        {
         "name": "count",
         "rawType": "int64",
         "type": "integer"
        }
       ],
       "ref": "56861b7a-66ef-4c68-bf86-349d79ae7c1f",
       "rows": [
        [
         "White (e.g., British, Irish, other European background)",
         "1418"
        ],
        [
         "Mixed or multiple ethnic groups (e.g., White and Black Caribbean, White and Asian)",
         "143"
        ],
        [
         "Asian or Asian British (e.g., Indian, Pakistani, Bangladeshi, Chinese)",
         "89"
        ],
        [
         "Other ethnic group (please specify): ______________",
         "46"
        ],
        [
         "Black, Black British, African, or Caribbean",
         "41"
        ],
        [
         "Prefer not to say",
         "32"
        ],
        [
         "White (e.g., British, Irish, other European background), Other ethnic group (please specify): ______________",
         "8"
        ],
        [
         "Arab",
         "7"
        ],
        [
         "Mixed or multiple ethnic groups (e.g., White and Black Caribbean, White and Asian), White (e.g., British, Irish, other European background)",
         "4"
        ],
        [
         "Asian or Asian British (e.g., Indian, Pakistani, Bangladeshi, Chinese), White (e.g., British, Irish, other European background)",
         "1"
        ],
        [
         "Asian or Asian British (e.g., Indian, Pakistani, Bangladeshi, Chinese), Other ethnic group (please specify): ______________",
         "1"
        ],
        [
         "Other ethnic group (please specify): ______________, Prefer not to say",
         "1"
        ],
        [
         "Arab, White (e.g., British, Irish, other European background)",
         "1"
        ],
        [
         "White (e.g., British, Irish, other European background), Prefer not to say",
         "1"
        ],
        [
         "Black, Black British, African, or Caribbean, Mixed or multiple ethnic groups (e.g., White and Black Caribbean, White and Asian), White (e.g., British, Irish, other European background)",
         "1"
        ]
       ],
       "shape": {
        "columns": 1,
        "rows": 15
       }
      },
      "text/plain": [
       "ethnicity\n",
       "White (e.g., British, Irish, other European background)                                                                                                                                     1418\n",
       "Mixed or multiple ethnic groups (e.g., White and Black Caribbean, White and Asian)                                                                                                           143\n",
       "Asian or Asian British (e.g., Indian, Pakistani, Bangladeshi, Chinese)                                                                                                                        89\n",
       "Other ethnic group (please specify): ______________                                                                                                                                           46\n",
       "Black, Black British, African, or Caribbean                                                                                                                                                   41\n",
       "Prefer not to say                                                                                                                                                                             32\n",
       "White (e.g., British, Irish, other European background), Other ethnic group (please specify): ______________                                                                                   8\n",
       "Arab                                                                                                                                                                                           7\n",
       "Mixed or multiple ethnic groups (e.g., White and Black Caribbean, White and Asian), White (e.g., British, Irish, other European background)                                                    4\n",
       "Asian or Asian British (e.g., Indian, Pakistani, Bangladeshi, Chinese), White (e.g., British, Irish, other European background)                                                                1\n",
       "Asian or Asian British (e.g., Indian, Pakistani, Bangladeshi, Chinese), Other ethnic group (please specify): ______________                                                                    1\n",
       "Other ethnic group (please specify): ______________, Prefer not to say                                                                                                                         1\n",
       "Arab, White (e.g., British, Irish, other European background)                                                                                                                                  1\n",
       "White (e.g., British, Irish, other European background), Prefer not to say                                                                                                                     1\n",
       "Black, Black British, African, or Caribbean, Mixed or multiple ethnic groups (e.g., White and Black Caribbean, White and Asian), White (e.g., British, Irish, other European background)       1\n",
       "Name: count, dtype: int64"
      ]
     },
     "execution_count": 101,
     "metadata": {},
     "output_type": "execute_result"
    }
   ],
   "source": [
    "# Exploring the ethnicity column for free text responses\n",
    "df['ethnicity'].value_counts()"
   ]
  },
  {
   "cell_type": "code",
   "execution_count": null,
   "id": "d4fe9b65",
   "metadata": {},
   "outputs": [
    {
     "data": {
      "application/vnd.microsoft.datawrangler.viewer.v0+json": {
       "columns": [
        {
         "name": "ethnicity",
         "rawType": "object",
         "type": "string"
        },
        {
         "name": "count",
         "rawType": "int64",
         "type": "integer"
        }
       ],
       "ref": "b32c1c6a-27d3-4210-856b-599bb8db4900",
       "rows": [
        [
         "White",
         "1427"
        ],
        [
         "Mixed or Multiple Ethnicities",
         "149"
        ],
        [
         "Asian or Asian British",
         "91"
        ],
        [
         "Other ethnic group",
         "46"
        ],
        [
         "Black or Black British",
         "41"
        ],
        [
         "Prefer not to say",
         "33"
        ],
        [
         "Arab",
         "7"
        ]
       ],
       "shape": {
        "columns": 1,
        "rows": 7
       }
      },
      "text/plain": [
       "ethnicity\n",
       "White                            1427\n",
       "Mixed or Multiple Ethnicities     149\n",
       "Asian or Asian British             91\n",
       "Other ethnic group                 46\n",
       "Black or Black British             41\n",
       "Prefer not to say                  33\n",
       "Arab                                7\n",
       "Name: count, dtype: int64"
      ]
     },
     "execution_count": 124,
     "metadata": {},
     "output_type": "execute_result"
    }
   ],
   "source": [
    "# Defining ethnicity dictionary to re-map the ethnicity column to reduce label complexity purely for analysis\n",
    "rename_ethnicity = {\n",
    "    \"White (e.g., British, Irish, other European background)\": \"White\",\n",
    "    \"White (e.g., British, Irish, other European background), Other ethnic group (please specify): ______________\": \"White\",\n",
    "    \"White (e.g., British, Irish, other European background), Prefer not to say\": \"White\",\n",
    "    \"Mixed or multiple ethnic groups (e.g., White and Black Caribbean, White and Asian)\": \"Mixed or Multiple Ethnicities\",\n",
    "    \"Mixed or multiple ethnic groups (e.g., White and Black Caribbean, White and Asian), White (e.g., British, Irish, other European background)\": \"Mixed or Multiple Ethnicities\",\n",
    "    \"Asian or Asian British (e.g., Indian, Pakistani, Bangladeshi, Chinese)\": \"Asian or Asian British\",\n",
    "    \"Asian or Asian British (e.g., Indian, Pakistani, Bangladeshi, Chinese), White (e.g., British, Irish, other European background)\": \"Asian or Asian British\",\n",
    "    \"Asian or Asian British (e.g., Indian, Pakistani, Bangladeshi, Chinese), Other ethnic group (please specify): ______________\": \"Asian or Asian British\",\n",
    "    \"Black, Black British, African, or Caribbean\": \"Black or Black British\",\n",
    "    \"Black, Black British, African, or Caribbean, Mixed or multiple ethnic groups (e.g., White and Black Caribbean, White and Asian)\": \"Black or Black British\",\n",
    "    \"Black, Black British, African, or Caribbean, Mixed or multiple ethnic groups (e.g., White and Black Caribbean, White and Asian), White (e.g., British, Irish, other European background)\":\"Mixed or Multiple Ethnicities\",\n",
    "    \"Arab, White (e.g., British, Irish, other European background)\": \"Mixed or Multiple Ethnicities\",\n",
    "    \"Other ethnic group (please specify): ______________\": \"Other ethnic group\",\n",
    "    \"Prefer not to say\": \"Prefer not to say\",\n",
    "    \"Other ethnic group (please specify): ______________, Prefer not to say\": \"Prefer not to say\"\n",
    "\n",
    "\n",
    "}\n"
   ]
  },
  {
   "cell_type": "code",
   "execution_count": 157,
   "id": "419cd82a",
   "metadata": {},
   "outputs": [
    {
     "data": {
      "application/vnd.microsoft.datawrangler.viewer.v0+json": {
       "columns": [
        {
         "name": "ethnicity",
         "rawType": "object",
         "type": "string"
        },
        {
         "name": "count",
         "rawType": "int64",
         "type": "integer"
        }
       ],
       "ref": "e5f09f76-6d4e-49fd-84e9-eb4272452d6e",
       "rows": [
        [
         "White",
         "1427"
        ],
        [
         "Mixed or Multiple Ethnicities",
         "149"
        ],
        [
         "Asian or Asian British",
         "91"
        ],
        [
         "Other ethnic group",
         "46"
        ],
        [
         "Black or Black British",
         "41"
        ],
        [
         "Prefer not to say",
         "33"
        ],
        [
         "Arab",
         "7"
        ]
       ],
       "shape": {
        "columns": 1,
        "rows": 7
       }
      },
      "text/plain": [
       "ethnicity\n",
       "White                            1427\n",
       "Mixed or Multiple Ethnicities     149\n",
       "Asian or Asian British             91\n",
       "Other ethnic group                 46\n",
       "Black or Black British             41\n",
       "Prefer not to say                  33\n",
       "Arab                                7\n",
       "Name: count, dtype: int64"
      ]
     },
     "execution_count": 157,
     "metadata": {},
     "output_type": "execute_result"
    }
   ],
   "source": [
    "# Applying the mapping to the ethnicity column\n",
    "df['ethnicity'] = df['ethnicity'].replace(rename_ethnicity) \n",
    "# Checking the cleaned ethnicity column\n",
    "def remap_ethnicity(df, mapping):\n",
    "    \"\"\"\n",
    "    Remap the 'ethnicity' column in the given DataFrame using the provided mapping dictionary.\n",
    "    Returns the modified DataFrame.\n",
    "    \"\"\"\n",
    "    df = df.copy()\n",
    "    df['ethnicity'] = df['ethnicity'].replace(mapping)\n",
    "    return df\n",
    "\n",
    "# Apply the function and check the cleaned ethnicity column\n",
    "df = remap_ethnicity(df, rename_ethnicity)\n",
    "df['ethnicity'].value_counts()"
   ]
  },
  {
   "cell_type": "code",
   "execution_count": null,
   "id": "aebe11fd",
   "metadata": {},
   "outputs": [],
   "source": [
    "# Replace en dash and em dash with standard hyphen-minus to avoid issues with string matching in the age column\n",
    "df['age'] = df['age'].str.replace(\"–\", \"-\", regex=False).str.replace(\"—\", \"-\", regex=False)\n"
   ]
  },
  {
   "cell_type": "code",
   "execution_count": null,
   "id": "6e9a91f0",
   "metadata": {},
   "outputs": [
    {
     "data": {
      "application/vnd.microsoft.datawrangler.viewer.v0+json": {
       "columns": [
        {
         "name": "age",
         "rawType": "object",
         "type": "string"
        },
        {
         "name": "count",
         "rawType": "int64",
         "type": "integer"
        }
       ],
       "ref": "b33a31ae-eb8c-46d0-ab4a-244eedee05c6",
       "rows": [
        [
         "25-34",
         "1009"
        ],
        [
         "35-44",
         "492"
        ],
        [
         "45-54",
         "151"
        ],
        [
         "55-64",
         "76"
        ],
        [
         "18-24",
         "63"
        ],
        [
         "65+",
         "6"
        ],
        [
         "Under 18",
         "1"
        ]
       ],
       "shape": {
        "columns": 1,
        "rows": 7
       }
      },
      "text/plain": [
       "age\n",
       "25-34       1009\n",
       "35-44        492\n",
       "45-54        151\n",
       "55-64         76\n",
       "18-24         63\n",
       "65+            6\n",
       "Under 18       1\n",
       "Name: count, dtype: int64"
      ]
     },
     "execution_count": 148,
     "metadata": {},
     "output_type": "execute_result"
    }
   ],
   "source": [
    "# Checking for responses in the age column\n",
    "df['age'].value_counts()\n",
    "# One respondent has selected two age groups (25–34 and 35–44), which is not ideal for analysis. I'll clean this up by selecting the first age group only.\n",
    "remap_age = {\n",
    "    \"25–34, 35–44\": \"25–34\", \n",
    "}\n",
    "# Replacing the age groups with the remap_age values\n",
    "df['age'] = df['age'].replace(remap_age)\n",
    "# Checking the cleaned age column\n",
    "df['age'].value_counts()"
   ]
  },
  {
   "cell_type": "markdown",
   "id": "90f395f5",
   "metadata": {},
   "source": [
    "# Exploratory Data Analysis"
   ]
  },
  {
   "cell_type": "code",
   "execution_count": null,
   "id": "2526dc7a",
   "metadata": {},
   "outputs": [],
   "source": [
    "df.describe()"
   ]
  },
  {
   "cell_type": "code",
   "execution_count": 115,
   "id": "75f4fdde",
   "metadata": {},
   "outputs": [],
   "source": [
    "# Defining a function to wrap long label names in plots\n",
    "\n",
    "import textwrap\n",
    "def wrap_labels(labels, width=20):\n",
    "    return [textwrap.fill(label, width=width) for label in labels]\n"
   ]
  },
  {
   "cell_type": "code",
   "execution_count": 152,
   "id": "c921e1e5",
   "metadata": {},
   "outputs": [
    {
     "data": {
      "image/png": "[encoded data removed]",
      "text/plain": [
       "<Figure size 640x480 with 1 Axes>"
      ]
     },
     "metadata": {},
     "output_type": "display_data"
    }
   ],
   "source": [
    "# visualing respondents by age group\n",
    "sns.countplot(df, x=\"age\",hue=\"age\", palette=\"pastel\", legend=False)\n",
    "plt.title(\"Survey Respondents by Age Group\")\n",
    "plt.xlabel(\"Age Group\")\n",
    "plt.ylabel(\"Count of Respondents\")\n",
    "plt.yticks(\n",
    "    ticks=np.arange(0, df['age'].value_counts().max() + 100, 100)\n",
    ")\n",
    "plt.xticks(rotation=45)\n",
    "plt.tight_layout()"
   ]
  },
  {
   "cell_type": "code",
   "execution_count": 155,
   "id": "41011a42",
   "metadata": {},
   "outputs": [
    {
     "data": {
      "image/png": "[encoded data removed]",
      "text/plain": [
       "<Figure size 640x480 with 1 Axes>"
      ]
     },
     "metadata": {},
     "output_type": "display_data"
    }
   ],
   "source": [
    "# visualising by ethnicity\n",
    "# plt.figure(figsize=(10, 8))\n",
    "sns.countplot(data=df, x=\"ethnicity\", hue=\"ethnicity\", palette='pastel', legend=False, order=df[\"ethnicity\"].value_counts().index)\n",
    "plt.title('Survey Respondents by Ethnicity')\n",
    "plt.xlabel('Ethnicity Group')\n",
    "plt.ylabel('Count of Respondents')\n",
    "plt.xticks(\n",
    "    ticks=plt.gca().get_xticks(),\n",
    "    labels=wrap_labels(df[\"ethnicity\"].value_counts().index), rotation=45, ha='right', fontsize=10\n",
    ")\n",
    "plt.tight_layout()"
   ]
  },
  {
   "cell_type": "code",
   "execution_count": 165,
   "id": "d258f121",
   "metadata": {},
   "outputs": [
    {
     "data": {
      "image/png": "[encoded data removed]",
      "text/plain": [
       "<Figure size 640x480 with 1 Axes>"
      ]
     },
     "metadata": {},
     "output_type": "display_data"
    }
   ],
   "source": [
    "# visualising by disability\n",
    "sns.countplot(data=df, x=\"disability_health_condition\", hue=\"gender\",palette='pastel')\n",
    "plt.title('Do you consider yourself to have a disability or long term health condition?')\n",
    "plt.xlabel('Survey Response')\n",
    "plt.ylabel('Count of Respondents')\n",
    "plt.xticks(rotation=0)\n",
    "plt.tight_layout()"
   ]
  },
  {
   "cell_type": "code",
   "execution_count": null,
   "id": "01860c39",
   "metadata": {},
   "outputs": [
    {
     "data": {
      "image/png": "[encoded data removed]",
      "text/plain": [
       "<Figure size 640x480 with 1 Axes>"
      ]
     },
     "metadata": {},
     "output_type": "display_data"
    }
   ],
   "source": [
    "# visualing respondents by top 5 employment statuses by count\n",
    "top5_status = df['employment_status'].value_counts().head(5).index\n",
    "sns.countplot(\n",
    "    data=df[df['employment_status'].isin(top5_status)],\n",
    "    x=\"employment_status\",\n",
    "    hue=\"employment_status\",\n",
    "    palette='pastel',\n",
    "    legend=False,\n",
    "    order=top5_status\n",
    ")\n",
    "plt.tight_layout()"
   ]
  },
  {
   "cell_type": "code",
   "execution_count": 94,
   "id": "18e160d7",
   "metadata": {},
   "outputs": [
    {
     "data": {
      "application/vnd.microsoft.datawrangler.viewer.v0+json": {
       "columns": [
        {
         "name": "enjoyment_reasons",
         "rawType": "object",
         "type": "string"
        },
        {
         "name": "count",
         "rawType": "int64",
         "type": "integer"
        }
       ],
       "ref": "b54415b4-02da-4152-88e7-08e03f3a969c",
       "rows": [
        [
         "Improved mood",
         "152"
        ],
        [
         "Improved mood, Assists me with my mental health resilience",
         "67"
        ],
        [
         "Improved mood, Improved sense of belonging to the local community., Helped me connect with the outdoors",
         "62"
        ],
        [
         "Improved mood, Helped me connect with the outdoors",
         "52"
        ],
        [
         "Improved mood, Improved sense of belonging to the local community.",
         "52"
        ],
        [
         "Improved mood, Improved sense of belonging to the local community., Assists me with my mental health resilience, Helped me connect with the outdoors",
         "52"
        ],
        [
         "Improved mood, Assists me with my mental health resilience, Helped me connect with the outdoors",
         "45"
        ],
        [
         "Improved mood, Improved sense of belonging to the local community., Assists me with my mental health resilience",
         "44"
        ],
        [
         "Improved mood, Improved sense of belonging to the local community., Assists me with my mental health resilience, Helped me connect with the outdoors, Increased my body confidence",
         "40"
        ],
        [
         "Helped with physical pain management, Improved mood",
         "32"
        ],
        [
         "Improved mood, Assists me with my mental health resilience, Improved my health, Helped me connect with the outdoors",
         "29"
        ],
        [
         "Improved mood, Improved my health",
         "29"
        ],
        [
         "Improved mood, Assists me with my mental health resilience, Improved my health",
         "27"
        ],
        [
         "Improved mood, Improved my health, Helped me connect with the outdoors",
         "26"
        ],
        [
         "Helped with physical pain management, Improved mood, Assists me with my mental health resilience",
         "25"
        ],
        [
         "Improved mood, Improved sense of belonging to the local community., Assists me with my mental health resilience, Improved my health",
         "24"
        ],
        [
         "Improved mood, Assists me with my mental health resilience, Increased my body confidence",
         "24"
        ],
        [
         "Improved mood, Improved sense of belonging to the local community., Assists me with my mental health resilience, Improved my health, Helped me connect with the outdoors, Increased my body confidence",
         "23"
        ],
        [
         "Improved my health",
         "23"
        ],
        [
         "Improved mood, Improved sense of belonging to the local community., Assists me with my mental health resilience, Improved my health, Helped me connect with the outdoors",
         "22"
        ],
        [
         "Improved mood, Improved sense of belonging to the local community., Helped me connect with the outdoors, Increased my body confidence",
         "20"
        ],
        [
         "Helped with physical pain management, Improved mood, Assists me with my mental health resilience, Improved my health",
         "19"
        ],
        [
         "Helped with physical pain management, Improved my fitness performance, Improved mood, Improved sense of belonging to the local community., Assists me with my mental health resilience, Improved my health, Helped me connect with the outdoors, I made new friends at the sauna, Increased my body confidence",
         "19"
        ],
        [
         "Improved mood, Improved sense of belonging to the local community., Assists me with my mental health resilience, Increased my body confidence",
         "17"
        ],
        [
         "Improved mood, Increased my body confidence",
         "16"
        ],
        [
         "Improved mood, Improved sense of belonging to the local community., Assists me with my mental health resilience, Helped me connect with the outdoors, I made new friends at the sauna, Increased my body confidence",
         "15"
        ],
        [
         "Improved mood, Improved sense of belonging to the local community., Increased my body confidence",
         "15"
        ],
        [
         "Improved mood, Improved sense of belonging to the local community., Assists me with my mental health resilience, Improved my health, Helped me connect with the outdoors, I made new friends at the sauna, Increased my body confidence",
         "15"
        ],
        [
         "Improved mood, Improved sense of belonging to the local community., Improved my health",
         "15"
        ],
        [
         "Improved mood, Assists me with my mental health resilience, Helped me connect with the outdoors, Increased my body confidence",
         "14"
        ],
        [
         "Improved mood, Helped me connect with the outdoors, Increased my body confidence",
         "14"
        ],
        [
         "Improved mood, Assists me with my mental health resilience, Improved my health, Increased my body confidence",
         "14"
        ],
        [
         "Improved mood, Improved sense of belonging to the local community., Assists me with my mental health resilience, I made new friends at the sauna",
         "13"
        ],
        [
         "Improved mood, Assists me with my mental health resilience, Improved my health, Helped me connect with the outdoors, Increased my body confidence",
         "12"
        ],
        [
         "Helped with physical pain management, Improved mood, Assists me with my mental health resilience, Helped me connect with the outdoors",
         "11"
        ],
        [
         "Improved mood, Improved sense of belonging to the local community., Improved my health, Helped me connect with the outdoors",
         "11"
        ],
        [
         "Helped with physical pain management, Improved mood, Improved sense of belonging to the local community., Assists me with my mental health resilience, Helped me connect with the outdoors, Increased my body confidence",
         "11"
        ],
        [
         "Improved my fitness performance, Improved mood",
         "11"
        ],
        [
         "Improved mood, Improved my health, Helped me connect with the outdoors, Increased my body confidence",
         "10"
        ],
        [
         "Helped with physical pain management, Improved mood, Improved sense of belonging to the local community., Assists me with my mental health resilience, Improved my health, Helped me connect with the outdoors, Increased my body confidence",
         "10"
        ],
        [
         "Helped with physical pain management, Improved mood, Assists me with my mental health resilience, Improved my health, Helped me connect with the outdoors",
         "10"
        ],
        [
         "Assists me with my mental health resilience",
         "9"
        ],
        [
         "Improved mood, Improved sense of belonging to the local community., Assists me with my mental health resilience, Improved my health, Helped me connect with the outdoors, I made new friends at the sauna",
         "9"
        ],
        [
         "Improved mood, Improved my health, Increased my body confidence",
         "9"
        ],
        [
         "Helped with physical pain management, Improved mood, Assists me with my mental health resilience, Improved my health, Helped me connect with the outdoors, Increased my body confidence",
         "9"
        ],
        [
         "Improved my fitness performance, Improved mood, Assists me with my mental health resilience, Improved my health",
         "9"
        ],
        [
         "Helped with physical pain management",
         "9"
        ],
        [
         "Improved my fitness performance, Improved mood, Improved my health",
         "9"
        ],
        [
         "Helped with physical pain management, Improved my fitness performance, Improved mood",
         "9"
        ],
        [
         "Helped me connect with the outdoors",
         "8"
        ]
       ],
       "shape": {
        "columns": 1,
        "rows": 326
       }
      },
      "text/plain": [
       "enjoyment_reasons\n",
       "Improved mood                                                                                                                                                                  152\n",
       "Improved mood, Assists me with my mental health resilience                                                                                                                      67\n",
       "Improved mood, Improved sense of belonging to the local community., Helped me connect with the outdoors                                                                         62\n",
       "Improved mood, Helped me connect with the outdoors                                                                                                                              52\n",
       "Improved mood, Improved sense of belonging to the local community.                                                                                                              52\n",
       "                                                                                                                                                                              ... \n",
       "Improved mood, I enjoy the experieence                                                                                                                                           1\n",
       "Improved my fitness performance, Improved mood, Improved sense of belonging to the local community., Increased my body confidence                                                1\n",
       "Helped with physical pain management, Improved my fitness performance, Improved mood, Improved my health, Helped me connect with the outdoors, Increased my body confidence      1\n",
       "Sleep improves                                                                                                                                                                   1\n",
       "Improved my health, I made new friends at the sauna                                                                                                                              1\n",
       "Name: count, Length: 326, dtype: int64"
      ]
     },
     "execution_count": 94,
     "metadata": {},
     "output_type": "execute_result"
    }
   ],
   "source": [
    "exploded_counts = df['enjoyment_reasons'].explode().value_counts()\n",
    "exploded_counts"
   ]
  },
  {
   "cell_type": "code",
   "execution_count": null,
   "id": "ccefd0d3",
   "metadata": {},
   "outputs": [],
   "source": [
    "# Frequency of sauna visits\n",
    "sns.countplot(data=df, x=\"visit_frequency\", hue=\"location_frequency\", palette='pastel', order=df[\"visit_frequency\"].value_counts().index)\n",
    "plt.title('Frequency of Sauna Visits by Preferred Location')\n",
    "plt.xlabel('Frequency of Visits')\n",
    "plt.ylabel('Count')\n",
    "plt.xticks(rotation=45)\n",
    "plt.tight_layout()"
   ]
  },
  {
   "cell_type": "code",
   "execution_count": null,
   "id": "f16d912b",
   "metadata": {},
   "outputs": [],
   "source": [
    "# Frequency of sauna visits by Age Group\n",
    "sns.countplot(data=df, x=\"visit_frequency\", hue=\"age\", palette='pastel', order=df[\"visit_frequency\"].value_counts().index)\n",
    "plt.title('Frequency of Sauna Visits by Age Group')\n",
    "plt.xlabel('Frequency of Visits')\n",
    "plt.ylabel('Count of Respondents')\n",
    "plt.xticks(rotation=45)\n",
    "plt.tight_layout()"
   ]
  },
  {
   "cell_type": "code",
   "execution_count": null,
   "id": "777bbb9c",
   "metadata": {},
   "outputs": [],
   "source": [
    "\n",
    "# Plot histogram\n",
    "plt.figure(figsize=(14, 6))\n",
    "sns.histplot(exploded_counts, bins=30, kde=False, color='blue', edgecolor='black')\n",
    "plt.xlabel('Unique Enjoyment Reason Combinations')\n",
    "plt.ylabel('Count')\n",
    "plt.title('Histogram of All Enjoyment Reason Combinations')\n",
    "plt.tight_layout()\n",
    "plt.show()\n"
   ]
  },
  {
   "cell_type": "code",
   "execution_count": null,
   "id": "60b27c6c",
   "metadata": {},
   "outputs": [],
   "source": [
    "import numpy as np\n",
    "\n",
    "# Rank-frequency data\n",
    "ranks = np.arange(1, len(exploded_counts) + 1)\n",
    "frequencies = exploded_counts.values\n",
    "\n",
    "# Plot log-log\n",
    "plt.figure(figsize=(10, 6))\n",
    "plt.plot(ranks, frequencies, marker='o', linestyle='none', color='darkgreen')\n",
    "plt.xscale('log')\n",
    "plt.yscale('log')\n",
    "plt.xlabel('Rank of Reason')\n",
    "plt.ylabel('Frequency')\n",
    "plt.title('Rank-Frequency Plot (Log-Log) of Enjoyment Reasons')\n",
    "plt.grid(True, which=\"both\", ls=\"--\", linewidth=0.5)\n",
    "plt.tight_layout()\n",
    "plt.show()\n"
   ]
  },
  {
   "cell_type": "code",
   "execution_count": null,
   "id": "ea3cb50e",
   "metadata": {},
   "outputs": [],
   "source": [
    "# Exploring the long tail distribution of enjoyment reasons\n",
    "\n",
    "value_counts = df['enjoyment_reasons'].explode().value_counts()\n",
    "plt.figure(figsize=(10, 6))\n",
    "plt.plot(range(1, len(value_counts)+1), value_counts.values)\n",
    "plt.yscale('log')\n",
    "plt.xscale('log')\n",
    "plt.xlabel('Rank')\n",
    "plt.ylabel('Frequency (log scale)')\n",
    "plt.title('Log-Log Plot of Enjoyment Reason Frequencies')\n",
    "plt.show()\n"
   ]
  },
  {
   "cell_type": "code",
   "execution_count": null,
   "id": "e85387e3",
   "metadata": {},
   "outputs": [],
   "source": [
    "# Exploring the top 10 reasons given for enjoying the community sauna\n",
    "df['enjoyment_reasons'].value_counts().head(10)"
   ]
  },
  {
   "cell_type": "code",
   "execution_count": null,
   "id": "182d3aaf",
   "metadata": {},
   "outputs": [],
   "source": [
    "# Visualising the top 20 reasons for enjoying the community sauna, change \"n\" to adjust the number of reasons displayed\n",
    "\n",
    "import textwrap\n",
    "\n",
    "# Wrap long labels\n",
    "def wrap_labels(label, width=40):\n",
    "    return '\\n'.join(textwrap.wrap(label, width=width))\n",
    "\n",
    "# Prepare data for seaborn\n",
    "top_n = 10\n",
    "top_reasons = df['enjoyment_reasons'].explode().value_counts().head(top_n)\n",
    "plot_data = top_reasons.reset_index()\n",
    "plot_data.columns = ['Enjoyment Reason', 'Count']\n",
    "plot_data['Enjoyment Reason'] = plot_data['Enjoyment Reason'].apply(wrap_labels)\n",
    "\n",
    "# Create horizontal barplot\n",
    "plt.figure(figsize=(10, 8))\n",
    "sns.barplot(data=plot_data, y='Enjoyment Reason', x='Count', palette='viridis')\n",
    "\n",
    "plt.title(f'Top {top_n} Enjoyment Reasons')\n",
    "plt.xlabel('Count')\n",
    "plt.ylabel('Enjoyment Reason')\n",
    "\n",
    "plt.tight_layout()\n",
    "plt.show()\n",
    "\n",
    "\n"
   ]
  },
  {
   "cell_type": "code",
   "execution_count": null,
   "id": "eed42748",
   "metadata": {},
   "outputs": [],
   "source": [
    "# Exploring joint plots for enjoyment reasons and belonging rating\n",
    "sns.jointplot(data=df, x=\"enjoyment_reasons\", y=\"Do you feel a sense of belonging or community when using the sauna?\", kind=\"scatter\", palette=\"pastel\")\n"
   ]
  },
  {
   "cell_type": "code",
   "execution_count": null,
   "id": "7f207640",
   "metadata": {},
   "outputs": [],
   "source": [
    "# importing the one hot encoder from sklearn\n",
    "from sklearn.preprocessing import OneHotEncoder\n",
    "\n",
    "# creating encoder object\n",
    "encoder = OneHotEncoder(sparse_output=False, handle_unknown='ignore')\n",
    "\n",
    "# Selecting relevant columns for one-hot encoding\n",
    "df_subset = df[[\"visit_frequency\", \"physical_health_improvements\", \"mental_health_improvements\"]]\n",
    "# remove rows where visit_frequency is NaN\n",
    "df_subset = df_subset.dropna(subset=[\"visit_frequency\"])\n",
    "\n",
    "# Converting 'visit_frequency' to categorical type for one-hot encoding\n",
    "df_pandas_encoded = pd.get_dummies(df_subset, columns=[\"visit_frequency\"])\n",
    "# One-hot encoding the 'visit_frequency' column\n",
    "onehotenc = encoder.fit_transform(df_subset[['visit_frequency']])\n",
    "one_hot_df = pd.DataFrame(onehotenc, columns=encoder.get_feature_names_out(['visit_frequency']))\n",
    "\n",
    "# add the other columns using join \n",
    "df_subset = df_subset.join(one_hot_df)\n",
    "df_subset = df_subset.drop(columns=[\"visit_frequency\"])\n",
    "df_subset"
   ]
  },
  {
   "cell_type": "code",
   "execution_count": null,
   "id": "2e7d50a5",
   "metadata": {},
   "outputs": [],
   "source": [
    "# create an array summing the visit frequency columns for data integrity\n",
    "\n",
    "visit_frequency_columns = [col for col in df_subset.columns if col.startswith('visit_frequency_')]\n",
    "visit_frequency_sum = df_subset[visit_frequency_columns].sum(axis=1)\n",
    "df_subset['visit_frequency_sum'] = visit_frequency_sum\n",
    "df_subset"
   ]
  },
  {
   "cell_type": "code",
   "execution_count": null,
   "id": "cbe81914",
   "metadata": {},
   "outputs": [],
   "source": [
    "# Creating contingency tables for the chi-squared test\n",
    "len(df_subset[(df_subset['visit_frequency_Rarely'] == 1) & (df_subset['physical_health_improvements'] == \"Yes\")])\n",
    "          "
   ]
  },
  {
   "cell_type": "code",
   "execution_count": null,
   "id": "e1efdf7a",
   "metadata": {},
   "outputs": [],
   "source": [
    "# Splitting the 'enjoyment_reasons' responses selection1,selection2,selection,3\n",
    "# into something like this:\n",
    "# [\"selection1\", \"selection2\", \"selection3\"] \n",
    "# Split the 'enjoyment_reasons' column into lists (handle NaN safely)\n",
    "df['enjoyment_reasons'] = df['enjoyment_reasons'].apply(lambda x: [s.strip() for s in str(x).split(',')] if pd.notnull(x) else [])\n",
    "\n",
    "# Count the number of options selected in each row\n",
    "df['enjoyment_reasons_count'] = df['enjoyment_reasons'].apply(len)\n",
    "df"
   ]
  },
  {
   "cell_type": "markdown",
   "id": "1c2e59d2",
   "metadata": {},
   "source": [
    "### Statistical testing"
   ]
  },
  {
   "cell_type": "markdown",
   "id": "9bacde37",
   "metadata": {},
   "source": [
    "Using the ch-sqaure test of independence"
   ]
  },
  {
   "cell_type": "code",
   "execution_count": null,
   "id": "e04ad1dd",
   "metadata": {},
   "outputs": [],
   "source": [
    "# Create a contingency table of sauna visit frequency counts in df_subset\n",
    "contingency_table = df_subset[[col for col in df_subset.columns if col.startswith('visit_frequency_')]].sum().to_frame(name='count')\n",
    "contingency_table.index = contingency_table.index.str.replace('visit_frequency_', '')\n",
    "contingency_table"
   ]
  },
  {
   "cell_type": "code",
   "execution_count": null,
   "id": "797fd93a",
   "metadata": {},
   "outputs": [],
   "source": [
    "# Create a contingency table to show value counts for visit_frequency vs physical_health_improvements and mental_health_improvements\n",
    "contingency_physical = pd.crosstab(\n",
    "    df_subset[visit_frequency_columns].idxmax(axis=1).str.replace('visit_frequency_', ''),\n",
    "    df_subset['physical_health_improvements']\n",
    ")\n",
    "\n",
    "contingency_mental = pd.crosstab(\n",
    "    df_subset[visit_frequency_columns].idxmax(axis=1).str.replace('visit_frequency_', ''),\n",
    "    df_subset['mental_health_improvements']\n",
    ")\n",
    "\n",
    "print(\"Contingency Table: Visit Frequency vs Physical Health Improvements\")\n",
    "display(contingency_physical)\n",
    "\n",
    "print(\"\\nContingency Table: Visit Frequency vs Mental Health Improvements\")\n",
    "display(contingency_mental)"
   ]
  },
  {
   "cell_type": "code",
   "execution_count": null,
   "id": "161a2365",
   "metadata": {},
   "outputs": [],
   "source": [
    "from scipy.stats import chi2_contingency\n",
    "\n",
    "# Performing Chi-square test of independence\n",
    "# between frequency of sauna visits and physical health improvements\n",
    "contingency = pd.crosstab(\n",
    "    df['visit_frequency'],\n",
    "    df['physical_health_improvements']\n",
    ")\n",
    "\n",
    "chi2, p, dof, expected = chi2_contingency(contingency)\n",
    "\n",
    "print(\"Chi-square statistic:\", chi2)\n",
    "print(\"Degrees of freedom:\", dof)\n",
    "print(\"P-value:\", p)\n"
   ]
  },
  {
   "cell_type": "code",
   "execution_count": null,
   "id": "76ad1b7b",
   "metadata": {},
   "outputs": [],
   "source": [
    "# Performing Chi-square test of independence\n",
    "# between frequency of sauna visits and mental health improvements\n",
    "contingency = pd.crosstab(\n",
    "    df['visit_frequency'],\n",
    "    df['mental_health_improvements']\n",
    ")\n",
    "\n",
    "chi2, p, dof, expected = chi2_contingency(contingency)\n",
    "\n",
    "print(\"Chi-square statistic:\", chi2)\n",
    "print(\"Degrees of freedom:\", dof)\n",
    "print(\"P-value:\", p)\n"
   ]
  },
  {
   "cell_type": "markdown",
   "id": "ca81608f",
   "metadata": {},
   "source": [
    "### Paired t-test from intervention study - dumbbell plot and t-test"
   ]
  },
  {
   "cell_type": "markdown",
   "id": "adc6f509",
   "metadata": {},
   "source": [
    "The instrument of measure used in the resesearch is inversely coded where wellbeing ratings are on the scale of:\n",
    "\n",
    "- 0 = \"as good as it can be\" and \n",
    "- 6 = \"as bad as it can be\""
   ]
  },
  {
   "cell_type": "code",
   "execution_count": null,
   "id": "9f42679a",
   "metadata": {},
   "outputs": [],
   "source": [
    "# Load the intervention study dataset\n",
    "df_intervention = pd.read_csv(\"Embedded Intervention Study Before and After(Wellbeing scores)(final).csv\")\n",
    "# Clean column names (remove extra spaces)\n",
    "df_intervention.columns = df_intervention.columns.str.strip()\n",
    "# Drop rows where 'Before wellbeing score' is NaN\n",
    "df_intervention = df_intervention.dropna(subset=['Before wellbeing score'])\n",
    "# Drop rows where 'After wellbeing score' is NaN\n",
    "df_intervention = df_intervention.dropna(subset=['After wellbeing score'])\n",
    "# Sort by 'Before wellbeing score' for better visual clarity\n",
    "df_intervention = df_intervention.sort_values(\"Before wellbeing score\", ascending=True)\n",
    "# Check the first few rows of the dataset\n",
    "df_intervention.head()\n",
    "print (\"Shape: \", df_intervention.shape)\n",
    "\n"
   ]
  },
  {
   "cell_type": "code",
   "execution_count": null,
   "id": "f5ea539e",
   "metadata": {},
   "outputs": [],
   "source": [
    "df_intervention"
   ]
  },
  {
   "cell_type": "code",
   "execution_count": null,
   "id": "b263df71",
   "metadata": {},
   "outputs": [],
   "source": [
    "df_sorted = df_intervention.sort_values(\"Before wellbeing score\", ascending=False).reset_index(drop=True)\n",
    "df_sorted['Index'] = df_sorted.index + 1"
   ]
  },
  {
   "cell_type": "code",
   "execution_count": null,
   "id": "eb582e66",
   "metadata": {},
   "outputs": [],
   "source": [
    "plt.figure(figsize=(12, 6))\n",
    "\n",
    "# Plot colored lines based on improvement (green), decline (red), or no change (gray)\n",
    "for _, row in df_sorted.iterrows():\n",
    "    change = row['After wellbeing score'] - row['Before wellbeing score']\n",
    "    if change < 0:\n",
    "        color = 'green'  # Score decreased = improvement\n",
    "    elif change > 0:\n",
    "        color = 'red'    # Score increased = decline\n",
    "    else:\n",
    "        color = 'gray'   # No change\n",
    "    \n",
    "    plt.plot(\n",
    "        [row['Index']] * 2,\n",
    "        [row['Before wellbeing score'], row['After wellbeing score']],\n",
    "        color=color, linewidth=2\n",
    "    )\n",
    "\n",
    "\n",
    "#Add black dots for before and after\n",
    "plt.scatter(df_sorted['Index'], df_sorted['Before wellbeing score'], \n",
    "            color='black', label='Before')\n",
    "plt.scatter(df_sorted['Index'], df_sorted['After wellbeing score'], \n",
    "            color='blue', label='After')\n",
    "\n",
    "# Annotate participants with no change\n",
    "for _, row in df_sorted.iterrows():\n",
    "    if row['Before wellbeing score'] == row['After wellbeing score']:\n",
    "        plt.text(\n",
    "            row['Index'] + 0.1,  # slightly offset on x-axis\n",
    "            row['Before wellbeing score'],  # same y since no change\n",
    "            'No change',\n",
    "            fontsize=6,\n",
    "            color='red'\n",
    "        )\n",
    "\n",
    "# Customize axises and labels\n",
    "plt.ylabel('Wellbeing Score, where 0 is \"worst\" and 6 is \"best\"')\n",
    "plt.xlabel('Participant Number')\n",
    "plt.xticks(df_sorted['Index'], df_sorted['Participant number'].astype(int), rotation=45)\n",
    "plt.title('Change in Wellbeing Scores (Improvement = Upward)')\n",
    "plt.legend()\n",
    "plt.tight_layout()\n",
    "plt.ylim(bottom=0)  # Optional: start Y-axis at 0\n",
    "plt.yticks([0, 1, 2, 3, 4, 5, 6], [\n",
    "    'Best (0)', '1', '2', '3', '4', '5', 'Worst (6)'\n",
    "])\n",
    "plt.gca().invert_yaxis()\n",
    "plt.show()\n",
    "\n"
   ]
  },
  {
   "cell_type": "code",
   "execution_count": null,
   "id": "f8fe8a9b",
   "metadata": {},
   "outputs": [],
   "source": [
    "# Calculating the mean and standard deviation of the wellbeing scores\n",
    "mean_before = df_intervention['Before wellbeing score'].mean()\n",
    "mean_after = df_intervention['After wellbeing score'].mean()\n",
    "std_before = df_intervention['Before wellbeing score'].std()\n",
    "std_after = df_intervention['After wellbeing score'].std()\n",
    "print(f\"Mean Before: {mean_before:.2f}, Std Before: {std_before:.2f}\")\n",
    "print(f\"Mean After: {mean_after:.2f}, Std After: {std_after:.2f}\")\n",
    "# Performing paired t-test\n",
    "from scipy.stats import ttest_rel\n",
    "t_stat, p_value = ttest_rel(\n",
    "    df_intervention['Before wellbeing score'], \n",
    "    df_intervention['After wellbeing score']\n",
    ")\n",
    "print(f\"T-statistic: {t_stat:.2f}, P-value: {p_value:.4f}\")\n",
    "# Interpreting the results\n",
    "if p_value < 0.05:\n",
    "    print(\"There is a statistically significant difference in wellbeing scores before and after the intervention.\")\n",
    "else:\n",
    "    print(\"There is no statistically significant difference in wellbeing scores before and after the intervention.\")\n",
    "# Visualizing the distribution of wellbeing scores before and after the intervention\n",
    "plt.figure(figsize=(12, 6))\n",
    "sns.histplot(df_intervention['Before wellbeing score'], kde=True, color='blue', label='Before', stat='density', bins=10)\n",
    "sns.histplot(df_intervention['After wellbeing score'], kde=True, color='orange', label='After', stat='density', bins=10)\n",
    "plt.axvline(mean_before, color='blue', linestyle='--', label='Mean Before')\n",
    "plt.axvline(mean_after, color='orange', linestyle='--', label='Mean After')\n",
    "plt.title('Distribution of Wellbeing Scores Before and After Intervention')\n",
    "plt.xlabel('Wellbeing Score')\n",
    "plt.ylabel('Density')\n",
    "plt.legend()\n",
    "plt.tight_layout()\n",
    "plt.show()"
   ]
  },
  {
   "cell_type": "markdown",
   "id": "b5656268",
   "metadata": {},
   "source": [
    "### Regression analysis(?)"
   ]
  },
  {
   "cell_type": "code",
   "execution_count": null,
   "id": "2b9c7e36",
   "metadata": {},
   "outputs": [],
   "source": [
    "# Preparing columns for binary regression analysis\n",
    "# Map 'Yes' to 1, 'No' to 0, leave others (e.g., 'Not sure', NaN) as NaN\n",
    "binary_improvements = pd.DataFrame()\n",
    "binary_improvements['physical_health_improvements'] = df['physical_health_improvements'].map({'Yes': 1, 'No': 0})\n",
    "binary_improvements['mental_health_improvements'] = df['mental_health_improvements'].map({'Yes': 1, 'No': 0})\n",
    "binary_improvements.dropna(inplace=True)\n",
    "binary_improvements.shape"
   ]
  },
  {
   "cell_type": "code",
   "execution_count": null,
   "id": "91e2cbee",
   "metadata": {},
   "outputs": [],
   "source": [
    "# import statsmodels for regression analysis\n",
    "import statsmodels.api as sm\n",
    "# Define the independent variables (X) and dependent variable (y)\n",
    "X = df_subset.drop(columns=['physical_health_improvements', 'mental_health_improvements'])"
   ]
  },
  {
   "cell_type": "markdown",
   "id": "40cfb42b",
   "metadata": {},
   "source": [
    "### Topic modelling "
   ]
  },
  {
   "cell_type": "code",
   "execution_count": null,
   "id": "0f0cd26e",
   "metadata": {},
   "outputs": [],
   "source": [
    "%pip install bertopic\n",
    "%pip install tf-keras\n",
    "%pip install plotly"
   ]
  },
  {
   "cell_type": "code",
   "execution_count": null,
   "id": "93662210",
   "metadata": {},
   "outputs": [],
   "source": [
    "print(len(df['importance_reason'].dropna()))\n",
    "len(df['importance_reason'])"
   ]
  },
  {
   "cell_type": "code",
   "execution_count": null,
   "id": "295db7da",
   "metadata": {},
   "outputs": [],
   "source": [
    "from bertopic import BERTopic\n",
    "from sklearn.feature_extraction.text import CountVectorizer\n",
    "vectoriser_model = CountVectorizer(stop_words=\"english\")\n",
    "\n",
    "\n",
    "\n",
    "topic_model = BERTopic(vectorizer_model=vectoriser_model)\n",
    "topics, probs = topic_model.fit_transform(df['importance_reason'].dropna().to_list())"
   ]
  },
  {
   "cell_type": "code",
   "execution_count": null,
   "id": "9bd7ae4c",
   "metadata": {},
   "outputs": [],
   "source": [
    "topic_model.get_topic(0)  # Get the most frequent topic\n",
    "      "
   ]
  },
  {
   "cell_type": "code",
   "execution_count": null,
   "id": "a63086f0",
   "metadata": {},
   "outputs": [],
   "source": [
    "# Install wordcloud\n",
    "%pip install wordcloud\n",
    "from wordcloud import WordCloud"
   ]
  },
  {
   "cell_type": "code",
   "execution_count": null,
   "id": "9c0c63aa",
   "metadata": {},
   "outputs": [],
   "source": [
    "# Create a word cloud for the most popular topic\n",
    "most_frequent_topic = topic_model.get_topic(0) # Change the number from 0-2 to view a different topic\n",
    "wordcloud = WordCloud(width=800, height=400, background_color='white').generate_from_frequencies(dict(most_frequent_topic))\n",
    "plt.figure(figsize=(10, 5))\n",
    "plt.imshow(wordcloud, interpolation='bilinear')\n",
    "plt.axis('off')\n",
    "plt.title(\"Word Cloud for Most Popular Topic\")\n",
    "plt.show()"
   ]
  },
  {
   "cell_type": "code",
   "execution_count": null,
   "id": "d54b3545",
   "metadata": {},
   "outputs": [],
   "source": [
    "topic_model.visualize_heatmap()"
   ]
  },
  {
   "cell_type": "code",
   "execution_count": null,
   "id": "f30f1ca3",
   "metadata": {},
   "outputs": [],
   "source": [
    "from sklearn.cluster import KMeans\n",
    "import numpy as np\n",
    "from sklearn.decomposition import PCA\n",
    "\n",
    "import matplotlib.pyplot as plt\n",
    "\n",
    "# Get topic embeddings from BERTopic\n",
    "topic_embeddings = topic_model.topic_embeddings_\n",
    "\n",
    "# Remove outlier topic (-1) if present\n",
    "valid_topics = [i for i in range(len(topic_embeddings)) if i != -1]\n",
    "embeddings = np.array([topic_embeddings[i] for i in valid_topics])\n",
    "\n",
    "# Cluster topics using KMeans (set k <= number of valid topics)\n",
    "k = min(5, len(valid_topics))\n",
    "kmeans = KMeans(n_clusters=k, random_state=42, n_init=10)\n",
    "labels = kmeans.fit_predict(embeddings)\n",
    "\n",
    "# Reduce dimensions for visualization\n",
    "pca = PCA(n_components=2)\n",
    "embeddings_2d = pca.fit_transform(embeddings)\n",
    "\n",
    "# Plot\n",
    "plt.figure(figsize=(8, 6))\n",
    "scatter = plt.scatter(embeddings_2d[:, 0], embeddings_2d[:, 1], c=labels, cmap='tab10', s=100)\n",
    "for i, topic_num in enumerate(valid_topics):\n",
    "    plt.annotate(str(topic_num), (embeddings_2d[i, 0], embeddings_2d[i, 1]), fontsize=9)\n",
    "plt.title(\"BERT Topic Embeddings clustered by KMeans\")\n",
    "plt.xlabel(\"PCA Component 1\")\n",
    "plt.ylabel(\"PCA Component 2\")\n",
    "plt.colorbar(scatter, label='Cluster')\n",
    "plt.tight_layout()\n",
    "plt.show()"
   ]
  }
 ],
 "metadata": {
  "kernelspec": {
   "display_name": "venv",
   "language": "python",
   "name": "python3"
  },
  "language_info": {
   "codemirror_mode": {
    "name": "ipython",
    "version": 3
   },
   "file_extension": ".py",
   "mimetype": "text/x-python",
   "name": "python",
   "nbconvert_exporter": "python",
   "pygments_lexer": "ipython3",
   "version": "3.12.6"
  }
 },
 "nbformat": 4,
 "nbformat_minor": 5
}
